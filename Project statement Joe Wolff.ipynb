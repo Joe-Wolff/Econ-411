{
 "cells": [
  {
   "cell_type": "markdown",
   "id": "6ca8d3d1",
   "metadata": {},
   "source": [
    "The project I will be doing is the effect that the crypto has had on the market. \n",
    "I will do this my measuring the grow of GDP before and after the begining of crypto.\n",
    "One big part of my project will be the effect of the FTX crash no the market and the crypto market.\n"
   ]
  },
  {
   "cell_type": "markdown",
   "id": "54c5d32b",
   "metadata": {},
   "source": [
    "The way that i will do this is by looking at the stockmarket growth and the price of different crypto currencies aswell as the gdp."
   ]
  },
  {
   "cell_type": "markdown",
   "id": "0a04410c",
   "metadata": {},
   "source": [
    "One data set that will be useful is the Fed Data i will get this information from the Feds website by useing the code below"
   ]
  },
  {
   "cell_type": "code",
   "execution_count": 7,
   "id": "4cd9142a",
   "metadata": {},
   "outputs": [],
   "source": [
    "#FRED.py\n",
    "import pandas as pd\n",
    "import pandas_datareader.data as web\n",
    "import datetime\n",
    "\n",
    "def gather_data(data_codes, start, \n",
    "                end = datetime.datetime.today(),freq = \"A\"):\n",
    "    # check if new column is first column of data\n",
    "    # if true, then create a new dataframe\n",
    "    i = 0\n",
    "    for key, code in data_codes.items():\n",
    "        if i == 0:\n",
    "            df = web.DataReader(code, \"fred\", start, end).resample(freq).mean()\n",
    "            # rename column so that code is replaced by the key (variable name)\n",
    "            df.rename(columns = {code:key}, inplace = True) \n",
    "            i = None\n",
    "        else:\n",
    "            # if DataFrame exists, add new column\n",
    "            df[key] = web.DataReader(code, \"fred\", start, end).resample(freq).mean()\n",
    "            \n",
    "    return df\n",
    "    # if not, add to existing dataframe\n",
    "\n",
    "def bil_to_mil(series):\n",
    "    # multiply billions by 1000 to yield millions\n",
    "    return series * 10 ** 3"
   ]
  },
  {
   "cell_type": "code",
   "execution_count": null,
   "id": "d648c03d",
   "metadata": {},
   "outputs": [],
   "source": []
  }
 ],
 "metadata": {
  "kernelspec": {
   "display_name": "Python 3 (ipykernel)",
   "language": "python",
   "name": "python3"
  },
  "language_info": {
   "codemirror_mode": {
    "name": "ipython",
    "version": 3
   },
   "file_extension": ".py",
   "mimetype": "text/x-python",
   "name": "python",
   "nbconvert_exporter": "python",
   "pygments_lexer": "ipython3",
   "version": "3.9.13"
  }
 },
 "nbformat": 4,
 "nbformat_minor": 5
}
