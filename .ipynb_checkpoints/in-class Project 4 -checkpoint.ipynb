{
 "cells": [
  {
   "cell_type": "markdown",
   "id": "4af5db97",
   "metadata": {},
   "source": [
    "## Introduction to numpy, pandas, and matplotlib"
   ]
  },
  {
   "cell_type": "code",
   "execution_count": 1,
   "id": "9f897d37",
   "metadata": {},
   "outputs": [],
   "source": [
    "import numpy as np\n",
    "import pandas as pd\n",
    "import matplotlib.pyplot as plt"
   ]
  },
  {
   "cell_type": "code",
   "execution_count": 2,
   "id": "3223d7bc",
   "metadata": {},
   "outputs": [
    {
     "data": {
      "text/plain": [
       "(<module 'numpy' from 'D:\\\\python\\\\lib\\\\site-packages\\\\numpy\\\\__init__.py'>,\n",
       " <module 'pandas' from 'D:\\\\python\\\\lib\\\\site-packages\\\\pandas\\\\__init__.py'>,\n",
       " <module 'matplotlib.pyplot' from 'D:\\\\python\\\\lib\\\\site-packages\\\\matplotlib\\\\pyplot.py'>)"
      ]
     },
     "execution_count": 2,
     "metadata": {},
     "output_type": "execute_result"
    }
   ],
   "source": [
    "np, pd, plt"
   ]
  },
  {
   "cell_type": "markdown",
   "id": "033094a3",
   "metadata": {},
   "source": [
    "## Numpy data types"
   ]
  },
  {
   "cell_type": "markdown",
   "id": "3277ea96",
   "metadata": {},
   "source": [
    "## float32"
   ]
  },
  {
   "cell_type": "code",
   "execution_count": 3,
   "id": "0d4d458c",
   "metadata": {},
   "outputs": [
    {
     "data": {
      "text/plain": [
       "(131072.0, numpy.float32)"
      ]
     },
     "execution_count": 3,
     "metadata": {},
     "output_type": "execute_result"
    }
   ],
   "source": [
    "x = np.float32(2 ** 17)\n",
    "x, type(x)"
   ]
  },
  {
   "cell_type": "markdown",
   "id": "b4f7efa9",
   "metadata": {},
   "source": [
    "## float64"
   ]
  },
  {
   "cell_type": "code",
   "execution_count": 4,
   "id": "318fcd10",
   "metadata": {},
   "outputs": [
    {
     "name": "stderr",
     "output_type": "stream",
     "text": [
      "C:\\Users\\joeyw\\AppData\\Local\\Temp\\ipykernel_20352\\3357549316.py:1: RuntimeWarning: overflow encountered in double_scalars\n",
      "  x = np.float64(2)**1024\n"
     ]
    },
    {
     "data": {
      "text/plain": [
       "(inf, numpy.float64)"
      ]
     },
     "execution_count": 4,
     "metadata": {},
     "output_type": "execute_result"
    }
   ],
   "source": [
    "x = np.float64(2)**1024\n",
    "x, type(x)"
   ]
  },
  {
   "cell_type": "markdown",
   "id": "67f28ec2",
   "metadata": {},
   "source": [
    "## arrays have fixed datatype"
   ]
  },
  {
   "cell_type": "code",
   "execution_count": 5,
   "id": "909ed2d8",
   "metadata": {},
   "outputs": [
    {
     "data": {
      "text/plain": [
       "(array([1., 2., 3., 4., 5.]), numpy.ndarray, dtype('float64'))"
      ]
     },
     "execution_count": 5,
     "metadata": {},
     "output_type": "execute_result"
    }
   ],
   "source": [
    "lst=[1.,2.,3.,4.,5.]\n",
    "array= np.array(lst)\n",
    "array, type(array), array.dtype"
   ]
  },
  {
   "cell_type": "code",
   "execution_count": 6,
   "id": "d2118f56",
   "metadata": {},
   "outputs": [
    {
     "data": {
      "text/plain": [
       "array([  0,  10,  20,  30,  40,  50,  60,  70,  80,  90, 100])"
      ]
     },
     "execution_count": 6,
     "metadata": {},
     "output_type": "execute_result"
    }
   ],
   "source": [
    "# np.arange creates array similar to how one would use a for loop or generator to make a list\n",
    "start =0\n",
    "end =100\n",
    "interval= 10\n",
    "range_array=np.arange(start,end+1,interval)\n",
    "range_array"
   ]
  },
  {
   "cell_type": "markdown",
   "id": "f4a80403",
   "metadata": {},
   "source": [
    "## Two dimensional lists and arrays"
   ]
  },
  {
   "cell_type": "code",
   "execution_count": 7,
   "id": "32fffc95",
   "metadata": {},
   "outputs": [
    {
     "data": {
      "text/plain": [
       "[[1, 2, 3], [4, 5, 6], [7, 8, 9]]"
      ]
     },
     "execution_count": 7,
     "metadata": {},
     "output_type": "execute_result"
    }
   ],
   "source": [
    "list_of_lists=[[1,2,3],[4,5,6],[7,8,9]]\n",
    "list_of_lists"
   ]
  },
  {
   "cell_type": "code",
   "execution_count": 8,
   "id": "06ff1c88",
   "metadata": {},
   "outputs": [
    {
     "data": {
      "text/plain": [
       "array([[1, 2, 3],\n",
       "       [4, 5, 6],\n",
       "       [7, 8, 9]])"
      ]
     },
     "execution_count": 8,
     "metadata": {},
     "output_type": "execute_result"
    }
   ],
   "source": [
    "two_dim_array=np.array(list_of_lists)\n",
    "two_dim_array"
   ]
  },
  {
   "cell_type": "code",
   "execution_count": 9,
   "id": "9979346b",
   "metadata": {},
   "outputs": [
    {
     "data": {
      "text/plain": [
       "array([1, 2, 3])"
      ]
     },
     "execution_count": 9,
     "metadata": {},
     "output_type": "execute_result"
    }
   ],
   "source": [
    "two_dim_array[0]"
   ]
  },
  {
   "cell_type": "code",
   "execution_count": 10,
   "id": "23db83aa",
   "metadata": {},
   "outputs": [
    {
     "name": "stdout",
     "output_type": "stream",
     "text": [
      "0\n",
      "[1 2 3]\n",
      "1\n",
      "[4 5 6]\n",
      "2\n",
      "[7 8 9]\n"
     ]
    }
   ],
   "source": [
    "for i in range(len(two_dim_array)):\n",
    "    print(i)\n",
    "    print(two_dim_array[i])"
   ]
  },
  {
   "cell_type": "code",
   "execution_count": 11,
   "id": "89aebf06",
   "metadata": {},
   "outputs": [
    {
     "name": "stdout",
     "output_type": "stream",
     "text": [
      "i j:\n",
      "0 0\n",
      "1\n",
      "0 1\n",
      "2\n",
      "0 2\n",
      "3\n",
      "i j:\n",
      "1 0\n",
      "4\n",
      "1 1\n",
      "5\n",
      "1 2\n",
      "6\n",
      "i j:\n",
      "2 0\n",
      "7\n",
      "2 1\n",
      "8\n",
      "2 2\n",
      "9\n"
     ]
    }
   ],
   "source": [
    "for i in range(len(two_dim_array)):\n",
    "    row=two_dim_array[i]\n",
    "    print(\"i j:\")\n",
    "    for j in range(len(row)):\n",
    "        print(i,j)\n",
    "        print(row[j])"
   ]
  },
  {
   "cell_type": "markdown",
   "id": "80eae902",
   "metadata": {},
   "source": [
    "## np.zeros, np.ones, np.empty\n",
    "## np.zeros_like,np.ones_like, np.empty_like"
   ]
  },
  {
   "cell_type": "code",
   "execution_count": 12,
   "id": "fdd614dc",
   "metadata": {
    "scrolled": true
   },
   "outputs": [
    {
     "data": {
      "text/plain": [
       "array([[0., 0., 0., 0., 0., 0., 0., 0., 0., 0.],\n",
       "       [0., 0., 0., 0., 0., 0., 0., 0., 0., 0.],\n",
       "       [0., 0., 0., 0., 0., 0., 0., 0., 0., 0.],\n",
       "       [0., 0., 0., 0., 0., 0., 0., 0., 0., 0.],\n",
       "       [0., 0., 0., 0., 0., 0., 0., 0., 0., 0.],\n",
       "       [0., 0., 0., 0., 0., 0., 0., 0., 0., 0.],\n",
       "       [0., 0., 0., 0., 0., 0., 0., 0., 0., 0.],\n",
       "       [0., 0., 0., 0., 0., 0., 0., 0., 0., 0.],\n",
       "       [0., 0., 0., 0., 0., 0., 0., 0., 0., 0.],\n",
       "       [0., 0., 0., 0., 0., 0., 0., 0., 0., 0.]])"
      ]
     },
     "execution_count": 12,
     "metadata": {},
     "output_type": "execute_result"
    }
   ],
   "source": [
    "np.zeros((10,10))"
   ]
  },
  {
   "cell_type": "code",
   "execution_count": 13,
   "id": "bb654f1b",
   "metadata": {
    "scrolled": true
   },
   "outputs": [
    {
     "data": {
      "text/plain": [
       "array([[0., 0., 0., 0., 0., 0., 0., 0., 0., 0.],\n",
       "       [0., 0., 0., 0., 0., 0., 0., 0., 0., 0.],\n",
       "       [0., 0., 0., 0., 0., 0., 0., 0., 0., 0.],\n",
       "       [0., 0., 0., 0., 0., 0., 0., 0., 0., 0.],\n",
       "       [0., 0., 0., 0., 0., 0., 0., 0., 0., 0.],\n",
       "       [0., 0., 0., 0., 0., 0., 0., 0., 0., 0.],\n",
       "       [0., 0., 0., 0., 0., 0., 0., 0., 0., 0.],\n",
       "       [0., 0., 0., 0., 0., 0., 0., 0., 0., 0.],\n",
       "       [0., 0., 0., 0., 0., 0., 0., 0., 0., 0.],\n",
       "       [0., 0., 0., 0., 0., 0., 0., 0., 0., 0.]])"
      ]
     },
     "execution_count": 13,
     "metadata": {},
     "output_type": "execute_result"
    }
   ],
   "source": [
    "np.empty((10,10))"
   ]
  },
  {
   "cell_type": "code",
   "execution_count": 14,
   "id": "e05449ae",
   "metadata": {},
   "outputs": [
    {
     "data": {
      "text/plain": [
       "array([[1., 1., 1., 1., 1., 1., 1., 1., 1., 1.],\n",
       "       [1., 1., 1., 1., 1., 1., 1., 1., 1., 1.],\n",
       "       [1., 1., 1., 1., 1., 1., 1., 1., 1., 1.],\n",
       "       [1., 1., 1., 1., 1., 1., 1., 1., 1., 1.],\n",
       "       [1., 1., 1., 1., 1., 1., 1., 1., 1., 1.],\n",
       "       [1., 1., 1., 1., 1., 1., 1., 1., 1., 1.],\n",
       "       [1., 1., 1., 1., 1., 1., 1., 1., 1., 1.],\n",
       "       [1., 1., 1., 1., 1., 1., 1., 1., 1., 1.],\n",
       "       [1., 1., 1., 1., 1., 1., 1., 1., 1., 1.],\n",
       "       [1., 1., 1., 1., 1., 1., 1., 1., 1., 1.]])"
      ]
     },
     "execution_count": 14,
     "metadata": {},
     "output_type": "execute_result"
    }
   ],
   "source": [
    "np.ones((10,10))"
   ]
  },
  {
   "cell_type": "code",
   "execution_count": 15,
   "id": "a9347e3e",
   "metadata": {},
   "outputs": [
    {
     "data": {
      "text/plain": [
       "array(0)"
      ]
     },
     "execution_count": 15,
     "metadata": {},
     "output_type": "execute_result"
    }
   ],
   "source": [
    "l = list_of_lists\n",
    "np. zeros_like(1)"
   ]
  },
  {
   "cell_type": "code",
   "execution_count": 16,
   "id": "443aae7e",
   "metadata": {},
   "outputs": [
    {
     "data": {
      "text/plain": [
       "array(1)"
      ]
     },
     "execution_count": 16,
     "metadata": {},
     "output_type": "execute_result"
    }
   ],
   "source": [
    "np. ones_like((1))"
   ]
  },
  {
   "cell_type": "code",
   "execution_count": 17,
   "id": "cca9fcd5",
   "metadata": {},
   "outputs": [
    {
     "data": {
      "text/plain": [
       "array(540156080)"
      ]
     },
     "execution_count": 17,
     "metadata": {},
     "output_type": "execute_result"
    }
   ],
   "source": [
    "np. empty_like((1))"
   ]
  },
  {
   "cell_type": "markdown",
   "id": "f54cc657",
   "metadata": {},
   "source": [
    "## Log values"
   ]
  },
  {
   "cell_type": "code",
   "execution_count": 18,
   "id": "295ee699",
   "metadata": {},
   "outputs": [
    {
     "data": {
      "text/plain": [
       "0.0"
      ]
     },
     "execution_count": 18,
     "metadata": {},
     "output_type": "execute_result"
    }
   ],
   "source": [
    "np. log(1)"
   ]
  },
  {
   "cell_type": "code",
   "execution_count": 19,
   "id": "c1905f87",
   "metadata": {},
   "outputs": [
    {
     "data": {
      "text/plain": [
       "1.0"
      ]
     },
     "execution_count": 19,
     "metadata": {},
     "output_type": "execute_result"
    }
   ],
   "source": [
    "np.log(np.e)"
   ]
  },
  {
   "cell_type": "code",
   "execution_count": 20,
   "id": "0fe507ab",
   "metadata": {},
   "outputs": [
    {
     "data": {
      "text/plain": [
       "array([[0.        , 0.69314718, 1.09861229],\n",
       "       [1.38629436, 1.60943791, 1.79175947],\n",
       "       [1.94591015, 2.07944154, 2.19722458]])"
      ]
     },
     "execution_count": 20,
     "metadata": {},
     "output_type": "execute_result"
    }
   ],
   "source": [
    "np.log(two_dim_array)"
   ]
  },
  {
   "cell_type": "code",
   "execution_count": 21,
   "id": "995f02cb",
   "metadata": {},
   "outputs": [
    {
     "data": {
      "text/plain": [
       "array([[0.        , 0.30103   , 0.47712125],\n",
       "       [0.60205999, 0.69897   , 0.77815125],\n",
       "       [0.84509804, 0.90308999, 0.95424251]])"
      ]
     },
     "execution_count": 21,
     "metadata": {},
     "output_type": "execute_result"
    }
   ],
   "source": [
    "np.log10(two_dim_array)"
   ]
  },
  {
   "cell_type": "code",
   "execution_count": 22,
   "id": "a3c7b72e",
   "metadata": {},
   "outputs": [
    {
     "data": {
      "text/plain": [
       "(3.141592653589793, 2.718281828459045, 1.0, inf, nan)"
      ]
     },
     "execution_count": 22,
     "metadata": {},
     "output_type": "execute_result"
    }
   ],
   "source": [
    "pi = np.pi\n",
    "e =np.e\n",
    "lne =np.log(e)\n",
    "infinity=np.inf\n",
    "null_val=np.nan\n",
    "pi,e,lne,infinity,null_val"
   ]
  },
  {
   "cell_type": "markdown",
   "id": "11944e88",
   "metadata": {},
   "source": [
    "## Pandas"
   ]
  },
  {
   "cell_type": "code",
   "execution_count": 23,
   "id": "f68306c6",
   "metadata": {},
   "outputs": [
    {
     "data": {
      "text/plain": [
       "{'0 to 9': array([0, 1, 2, 3, 4, 5, 6, 7, 8, 9]),\n",
       " 'ones': array([1., 1., 1., 1., 1., 1., 1., 1., 1., 1.]),\n",
       " 'zeros': array([0., 0., 0., 0., 0., 0., 0., 0., 0., 0.])}"
      ]
     },
     "execution_count": 23,
     "metadata": {},
     "output_type": "execute_result"
    }
   ],
   "source": [
    "data_dict = {\"0 to 9\": np.arange(10),\n",
    "            \"ones\": np.ones(10),\n",
    "            \"zeros\":np.zeros(10)}\n",
    "data_dict"
   ]
  },
  {
   "cell_type": "code",
   "execution_count": 24,
   "id": "43f1df17",
   "metadata": {},
   "outputs": [
    {
     "data": {
      "text/html": [
       "<div>\n",
       "<style scoped>\n",
       "    .dataframe tbody tr th:only-of-type {\n",
       "        vertical-align: middle;\n",
       "    }\n",
       "\n",
       "    .dataframe tbody tr th {\n",
       "        vertical-align: top;\n",
       "    }\n",
       "\n",
       "    .dataframe thead th {\n",
       "        text-align: right;\n",
       "    }\n",
       "</style>\n",
       "<table border=\"1\" class=\"dataframe\">\n",
       "  <thead>\n",
       "    <tr style=\"text-align: right;\">\n",
       "      <th></th>\n",
       "      <th>0 to 9</th>\n",
       "      <th>ones</th>\n",
       "      <th>zeros</th>\n",
       "    </tr>\n",
       "  </thead>\n",
       "  <tbody>\n",
       "    <tr>\n",
       "      <th>0</th>\n",
       "      <td>0</td>\n",
       "      <td>1.0</td>\n",
       "      <td>0.0</td>\n",
       "    </tr>\n",
       "    <tr>\n",
       "      <th>1</th>\n",
       "      <td>1</td>\n",
       "      <td>1.0</td>\n",
       "      <td>0.0</td>\n",
       "    </tr>\n",
       "    <tr>\n",
       "      <th>2</th>\n",
       "      <td>2</td>\n",
       "      <td>1.0</td>\n",
       "      <td>0.0</td>\n",
       "    </tr>\n",
       "    <tr>\n",
       "      <th>3</th>\n",
       "      <td>3</td>\n",
       "      <td>1.0</td>\n",
       "      <td>0.0</td>\n",
       "    </tr>\n",
       "    <tr>\n",
       "      <th>4</th>\n",
       "      <td>4</td>\n",
       "      <td>1.0</td>\n",
       "      <td>0.0</td>\n",
       "    </tr>\n",
       "    <tr>\n",
       "      <th>5</th>\n",
       "      <td>5</td>\n",
       "      <td>1.0</td>\n",
       "      <td>0.0</td>\n",
       "    </tr>\n",
       "    <tr>\n",
       "      <th>6</th>\n",
       "      <td>6</td>\n",
       "      <td>1.0</td>\n",
       "      <td>0.0</td>\n",
       "    </tr>\n",
       "    <tr>\n",
       "      <th>7</th>\n",
       "      <td>7</td>\n",
       "      <td>1.0</td>\n",
       "      <td>0.0</td>\n",
       "    </tr>\n",
       "    <tr>\n",
       "      <th>8</th>\n",
       "      <td>8</td>\n",
       "      <td>1.0</td>\n",
       "      <td>0.0</td>\n",
       "    </tr>\n",
       "    <tr>\n",
       "      <th>9</th>\n",
       "      <td>9</td>\n",
       "      <td>1.0</td>\n",
       "      <td>0.0</td>\n",
       "    </tr>\n",
       "  </tbody>\n",
       "</table>\n",
       "</div>"
      ],
      "text/plain": [
       "   0 to 9  ones  zeros\n",
       "0       0   1.0    0.0\n",
       "1       1   1.0    0.0\n",
       "2       2   1.0    0.0\n",
       "3       3   1.0    0.0\n",
       "4       4   1.0    0.0\n",
       "5       5   1.0    0.0\n",
       "6       6   1.0    0.0\n",
       "7       7   1.0    0.0\n",
       "8       8   1.0    0.0\n",
       "9       9   1.0    0.0"
      ]
     },
     "execution_count": 24,
     "metadata": {},
     "output_type": "execute_result"
    }
   ],
   "source": [
    "df=pd.DataFrame(data_dict)\n",
    "df"
   ]
  },
  {
   "cell_type": "code",
   "execution_count": 25,
   "id": "01c28f42",
   "metadata": {},
   "outputs": [
    {
     "data": {
      "text/plain": [
       "(   0 to 9\n",
       " 0       0\n",
       " 1       1\n",
       " 2       2\n",
       " 3       3\n",
       " 4       4\n",
       " 5       5\n",
       " 6       6\n",
       " 7       7\n",
       " 8       8\n",
       " 9       9,\n",
       " pandas.core.series.Series)"
      ]
     },
     "execution_count": 25,
     "metadata": {},
     "output_type": "execute_result"
    }
   ],
   "source": [
    "# calling a single key will return a series\n",
    "df[[\"0 to 9\"]],type(df[\"0 to 9\"])"
   ]
  },
  {
   "cell_type": "code",
   "execution_count": 26,
   "id": "b1f6930d",
   "metadata": {},
   "outputs": [
    {
     "data": {
      "text/html": [
       "<div>\n",
       "<style scoped>\n",
       "    .dataframe tbody tr th:only-of-type {\n",
       "        vertical-align: middle;\n",
       "    }\n",
       "\n",
       "    .dataframe tbody tr th {\n",
       "        vertical-align: top;\n",
       "    }\n",
       "\n",
       "    .dataframe thead th {\n",
       "        text-align: right;\n",
       "    }\n",
       "</style>\n",
       "<table border=\"1\" class=\"dataframe\">\n",
       "  <thead>\n",
       "    <tr style=\"text-align: right;\">\n",
       "      <th></th>\n",
       "      <th>0 to 9</th>\n",
       "    </tr>\n",
       "  </thead>\n",
       "  <tbody>\n",
       "    <tr>\n",
       "      <th>0</th>\n",
       "      <td>0</td>\n",
       "    </tr>\n",
       "    <tr>\n",
       "      <th>1</th>\n",
       "      <td>1</td>\n",
       "    </tr>\n",
       "    <tr>\n",
       "      <th>2</th>\n",
       "      <td>2</td>\n",
       "    </tr>\n",
       "    <tr>\n",
       "      <th>3</th>\n",
       "      <td>3</td>\n",
       "    </tr>\n",
       "    <tr>\n",
       "      <th>4</th>\n",
       "      <td>4</td>\n",
       "    </tr>\n",
       "    <tr>\n",
       "      <th>5</th>\n",
       "      <td>5</td>\n",
       "    </tr>\n",
       "    <tr>\n",
       "      <th>6</th>\n",
       "      <td>6</td>\n",
       "    </tr>\n",
       "    <tr>\n",
       "      <th>7</th>\n",
       "      <td>7</td>\n",
       "    </tr>\n",
       "    <tr>\n",
       "      <th>8</th>\n",
       "      <td>8</td>\n",
       "    </tr>\n",
       "    <tr>\n",
       "      <th>9</th>\n",
       "      <td>9</td>\n",
       "    </tr>\n",
       "  </tbody>\n",
       "</table>\n",
       "</div>"
      ],
      "text/plain": [
       "   0 to 9\n",
       "0       0\n",
       "1       1\n",
       "2       2\n",
       "3       3\n",
       "4       4\n",
       "5       5\n",
       "6       6\n",
       "7       7\n",
       "8       8\n",
       "9       9"
      ]
     },
     "execution_count": 26,
     "metadata": {},
     "output_type": "execute_result"
    }
   ],
   "source": [
    "# calling a list of keys will return a dataframe\n",
    "df[[\"0 to 9\"]]"
   ]
  },
  {
   "cell_type": "code",
   "execution_count": 27,
   "id": "604bb47f",
   "metadata": {},
   "outputs": [
    {
     "data": {
      "text/html": [
       "<div>\n",
       "<style scoped>\n",
       "    .dataframe tbody tr th:only-of-type {\n",
       "        vertical-align: middle;\n",
       "    }\n",
       "\n",
       "    .dataframe tbody tr th {\n",
       "        vertical-align: top;\n",
       "    }\n",
       "\n",
       "    .dataframe thead th {\n",
       "        text-align: right;\n",
       "    }\n",
       "</style>\n",
       "<table border=\"1\" class=\"dataframe\">\n",
       "  <thead>\n",
       "    <tr style=\"text-align: right;\">\n",
       "      <th></th>\n",
       "      <th>0 to 9</th>\n",
       "      <th>ones</th>\n",
       "    </tr>\n",
       "  </thead>\n",
       "  <tbody>\n",
       "    <tr>\n",
       "      <th>0</th>\n",
       "      <td>0</td>\n",
       "      <td>1.0</td>\n",
       "    </tr>\n",
       "    <tr>\n",
       "      <th>1</th>\n",
       "      <td>1</td>\n",
       "      <td>1.0</td>\n",
       "    </tr>\n",
       "    <tr>\n",
       "      <th>2</th>\n",
       "      <td>2</td>\n",
       "      <td>1.0</td>\n",
       "    </tr>\n",
       "    <tr>\n",
       "      <th>3</th>\n",
       "      <td>3</td>\n",
       "      <td>1.0</td>\n",
       "    </tr>\n",
       "    <tr>\n",
       "      <th>4</th>\n",
       "      <td>4</td>\n",
       "      <td>1.0</td>\n",
       "    </tr>\n",
       "    <tr>\n",
       "      <th>5</th>\n",
       "      <td>5</td>\n",
       "      <td>1.0</td>\n",
       "    </tr>\n",
       "    <tr>\n",
       "      <th>6</th>\n",
       "      <td>6</td>\n",
       "      <td>1.0</td>\n",
       "    </tr>\n",
       "    <tr>\n",
       "      <th>7</th>\n",
       "      <td>7</td>\n",
       "      <td>1.0</td>\n",
       "    </tr>\n",
       "    <tr>\n",
       "      <th>8</th>\n",
       "      <td>8</td>\n",
       "      <td>1.0</td>\n",
       "    </tr>\n",
       "    <tr>\n",
       "      <th>9</th>\n",
       "      <td>9</td>\n",
       "      <td>1.0</td>\n",
       "    </tr>\n",
       "  </tbody>\n",
       "</table>\n",
       "</div>"
      ],
      "text/plain": [
       "   0 to 9  ones\n",
       "0       0   1.0\n",
       "1       1   1.0\n",
       "2       2   1.0\n",
       "3       3   1.0\n",
       "4       4   1.0\n",
       "5       5   1.0\n",
       "6       6   1.0\n",
       "7       7   1.0\n",
       "8       8   1.0\n",
       "9       9   1.0"
      ]
     },
     "execution_count": 27,
     "metadata": {},
     "output_type": "execute_result"
    }
   ],
   "source": [
    "df[[\"0 to 9\", \"ones\"]]"
   ]
  },
  {
   "cell_type": "code",
   "execution_count": 28,
   "id": "73189316",
   "metadata": {},
   "outputs": [
    {
     "data": {
      "text/plain": [
       "0 to 9    0.0\n",
       "ones      1.0\n",
       "zeros     0.0\n",
       "Name: 0, dtype: float64"
      ]
     },
     "execution_count": 28,
     "metadata": {},
     "output_type": "execute_result"
    }
   ],
   "source": [
    "# calling by row\n",
    "df.iloc[0]"
   ]
  },
  {
   "cell_type": "code",
   "execution_count": 29,
   "id": "a81ce857",
   "metadata": {},
   "outputs": [
    {
     "data": {
      "text/plain": [
       "0    0\n",
       "1    1\n",
       "2    2\n",
       "3    3\n",
       "Name: 0 to 9, dtype: int32"
      ]
     },
     "execution_count": 29,
     "metadata": {},
     "output_type": "execute_result"
    }
   ],
   "source": [
    "# pandas may require you to use .loc to save the value in the specified location\n",
    "df.loc[:3, \"0 to 9\"]"
   ]
  },
  {
   "cell_type": "code",
   "execution_count": 30,
   "id": "df79385d",
   "metadata": {},
   "outputs": [
    {
     "data": {
      "text/html": [
       "<div>\n",
       "<style scoped>\n",
       "    .dataframe tbody tr th:only-of-type {\n",
       "        vertical-align: middle;\n",
       "    }\n",
       "\n",
       "    .dataframe tbody tr th {\n",
       "        vertical-align: top;\n",
       "    }\n",
       "\n",
       "    .dataframe thead th {\n",
       "        text-align: right;\n",
       "    }\n",
       "</style>\n",
       "<table border=\"1\" class=\"dataframe\">\n",
       "  <thead>\n",
       "    <tr style=\"text-align: right;\">\n",
       "      <th></th>\n",
       "      <th>0</th>\n",
       "      <th>1</th>\n",
       "      <th>2</th>\n",
       "      <th>3</th>\n",
       "      <th>4</th>\n",
       "      <th>5</th>\n",
       "      <th>6</th>\n",
       "      <th>7</th>\n",
       "      <th>8</th>\n",
       "      <th>9</th>\n",
       "    </tr>\n",
       "  </thead>\n",
       "  <tbody>\n",
       "    <tr>\n",
       "      <th>0 to 9</th>\n",
       "      <td>0.0</td>\n",
       "      <td>1.0</td>\n",
       "      <td>2.0</td>\n",
       "      <td>3.0</td>\n",
       "      <td>4.0</td>\n",
       "      <td>5.0</td>\n",
       "      <td>6.0</td>\n",
       "      <td>7.0</td>\n",
       "      <td>8.0</td>\n",
       "      <td>9.0</td>\n",
       "    </tr>\n",
       "    <tr>\n",
       "      <th>ones</th>\n",
       "      <td>1.0</td>\n",
       "      <td>1.0</td>\n",
       "      <td>1.0</td>\n",
       "      <td>1.0</td>\n",
       "      <td>1.0</td>\n",
       "      <td>1.0</td>\n",
       "      <td>1.0</td>\n",
       "      <td>1.0</td>\n",
       "      <td>1.0</td>\n",
       "      <td>1.0</td>\n",
       "    </tr>\n",
       "    <tr>\n",
       "      <th>zeros</th>\n",
       "      <td>0.0</td>\n",
       "      <td>0.0</td>\n",
       "      <td>0.0</td>\n",
       "      <td>0.0</td>\n",
       "      <td>0.0</td>\n",
       "      <td>0.0</td>\n",
       "      <td>0.0</td>\n",
       "      <td>0.0</td>\n",
       "      <td>0.0</td>\n",
       "      <td>0.0</td>\n",
       "    </tr>\n",
       "  </tbody>\n",
       "</table>\n",
       "</div>"
      ],
      "text/plain": [
       "          0    1    2    3    4    5    6    7    8    9\n",
       "0 to 9  0.0  1.0  2.0  3.0  4.0  5.0  6.0  7.0  8.0  9.0\n",
       "ones    1.0  1.0  1.0  1.0  1.0  1.0  1.0  1.0  1.0  1.0\n",
       "zeros   0.0  0.0  0.0  0.0  0.0  0.0  0.0  0.0  0.0  0.0"
      ]
     },
     "execution_count": 30,
     "metadata": {},
     "output_type": "execute_result"
    }
   ],
   "source": [
    "# row indices can be strings becasue indices are keys. using df.loc[] allows you to call each row by name\n",
    "df.T"
   ]
  },
  {
   "cell_type": "code",
   "execution_count": 31,
   "id": "1c9f1b50",
   "metadata": {},
   "outputs": [
    {
     "data": {
      "text/plain": [
       "0    0.0\n",
       "1    1.0\n",
       "2    2.0\n",
       "3    3.0\n",
       "4    4.0\n",
       "5    5.0\n",
       "6    6.0\n",
       "7    7.0\n",
       "8    8.0\n",
       "9    9.0\n",
       "Name: 0 to 9, dtype: float64"
      ]
     },
     "execution_count": 31,
     "metadata": {},
     "output_type": "execute_result"
    }
   ],
   "source": [
    "df.T.loc[\"0 to 9\"]"
   ]
  },
  {
   "cell_type": "code",
   "execution_count": 32,
   "id": "c89fbb2e",
   "metadata": {},
   "outputs": [
    {
     "data": {
      "text/plain": [
       "0    0.0\n",
       "1    1.0\n",
       "2    2.0\n",
       "3    3.0\n",
       "4    4.0\n",
       "5    5.0\n",
       "6    6.0\n",
       "7    7.0\n",
       "8    8.0\n",
       "9    9.0\n",
       "Name: 0 to 9, dtype: float64"
      ]
     },
     "execution_count": 32,
     "metadata": {},
     "output_type": "execute_result"
    }
   ],
   "source": [
    "df.T.iloc[0]"
   ]
  },
  {
   "cell_type": "markdown",
   "id": "e8327f96",
   "metadata": {},
   "source": [
    "## Boolean arrays // Boolean series"
   ]
  },
  {
   "cell_type": "code",
   "execution_count": 33,
   "id": "1c740f0a",
   "metadata": {},
   "outputs": [
    {
     "data": {
      "text/plain": [
       "0    False\n",
       "1    False\n",
       "2    False\n",
       "3    False\n",
       "4     True\n",
       "5     True\n",
       "6     True\n",
       "7     True\n",
       "8     True\n",
       "9     True\n",
       "Name: 0 to 9, dtype: bool"
      ]
     },
     "execution_count": 33,
     "metadata": {},
     "output_type": "execute_result"
    }
   ],
   "source": [
    "df[\"0 to 9\"]>3"
   ]
  },
  {
   "cell_type": "code",
   "execution_count": 34,
   "id": "b0037cec",
   "metadata": {},
   "outputs": [
    {
     "data": {
      "text/plain": [
       "0    False\n",
       "1    False\n",
       "2    False\n",
       "3    False\n",
       "4     True\n",
       "5     True\n",
       "6     True\n",
       "7     True\n",
       "8     True\n",
       "9     True\n",
       "Name: 0 to 9, dtype: bool"
      ]
     },
     "execution_count": 34,
     "metadata": {},
     "output_type": "execute_result"
    }
   ],
   "source": [
    "greater_than_3 = df[\"0 to 9\"] > 3\n",
    "greater_than_3"
   ]
  },
  {
   "cell_type": "code",
   "execution_count": 35,
   "id": "4bdee72b",
   "metadata": {},
   "outputs": [
    {
     "data": {
      "text/html": [
       "<div>\n",
       "<style scoped>\n",
       "    .dataframe tbody tr th:only-of-type {\n",
       "        vertical-align: middle;\n",
       "    }\n",
       "\n",
       "    .dataframe tbody tr th {\n",
       "        vertical-align: top;\n",
       "    }\n",
       "\n",
       "    .dataframe thead th {\n",
       "        text-align: right;\n",
       "    }\n",
       "</style>\n",
       "<table border=\"1\" class=\"dataframe\">\n",
       "  <thead>\n",
       "    <tr style=\"text-align: right;\">\n",
       "      <th></th>\n",
       "      <th>0 to 9</th>\n",
       "      <th>ones</th>\n",
       "      <th>zeros</th>\n",
       "    </tr>\n",
       "  </thead>\n",
       "  <tbody>\n",
       "    <tr>\n",
       "      <th>4</th>\n",
       "      <td>4</td>\n",
       "      <td>1.0</td>\n",
       "      <td>0.0</td>\n",
       "    </tr>\n",
       "    <tr>\n",
       "      <th>5</th>\n",
       "      <td>5</td>\n",
       "      <td>1.0</td>\n",
       "      <td>0.0</td>\n",
       "    </tr>\n",
       "    <tr>\n",
       "      <th>6</th>\n",
       "      <td>6</td>\n",
       "      <td>1.0</td>\n",
       "      <td>0.0</td>\n",
       "    </tr>\n",
       "    <tr>\n",
       "      <th>7</th>\n",
       "      <td>7</td>\n",
       "      <td>1.0</td>\n",
       "      <td>0.0</td>\n",
       "    </tr>\n",
       "    <tr>\n",
       "      <th>8</th>\n",
       "      <td>8</td>\n",
       "      <td>1.0</td>\n",
       "      <td>0.0</td>\n",
       "    </tr>\n",
       "    <tr>\n",
       "      <th>9</th>\n",
       "      <td>9</td>\n",
       "      <td>1.0</td>\n",
       "      <td>0.0</td>\n",
       "    </tr>\n",
       "  </tbody>\n",
       "</table>\n",
       "</div>"
      ],
      "text/plain": [
       "   0 to 9  ones  zeros\n",
       "4       4   1.0    0.0\n",
       "5       5   1.0    0.0\n",
       "6       6   1.0    0.0\n",
       "7       7   1.0    0.0\n",
       "8       8   1.0    0.0\n",
       "9       9   1.0    0.0"
      ]
     },
     "execution_count": 35,
     "metadata": {},
     "output_type": "execute_result"
    }
   ],
   "source": [
    "df[greater_than_3]"
   ]
  },
  {
   "cell_type": "code",
   "execution_count": 36,
   "id": "2e13a1c2",
   "metadata": {},
   "outputs": [
    {
     "data": {
      "text/html": [
       "<div>\n",
       "<style scoped>\n",
       "    .dataframe tbody tr th:only-of-type {\n",
       "        vertical-align: middle;\n",
       "    }\n",
       "\n",
       "    .dataframe tbody tr th {\n",
       "        vertical-align: top;\n",
       "    }\n",
       "\n",
       "    .dataframe thead th {\n",
       "        text-align: right;\n",
       "    }\n",
       "</style>\n",
       "<table border=\"1\" class=\"dataframe\">\n",
       "  <thead>\n",
       "    <tr style=\"text-align: right;\">\n",
       "      <th></th>\n",
       "      <th>0 to 9</th>\n",
       "      <th>ones</th>\n",
       "      <th>zeros</th>\n",
       "    </tr>\n",
       "  </thead>\n",
       "  <tbody>\n",
       "    <tr>\n",
       "      <th>4</th>\n",
       "      <td>4</td>\n",
       "      <td>1.0</td>\n",
       "      <td>0.0</td>\n",
       "    </tr>\n",
       "    <tr>\n",
       "      <th>5</th>\n",
       "      <td>5</td>\n",
       "      <td>1.0</td>\n",
       "      <td>0.0</td>\n",
       "    </tr>\n",
       "    <tr>\n",
       "      <th>6</th>\n",
       "      <td>6</td>\n",
       "      <td>1.0</td>\n",
       "      <td>0.0</td>\n",
       "    </tr>\n",
       "    <tr>\n",
       "      <th>7</th>\n",
       "      <td>7</td>\n",
       "      <td>1.0</td>\n",
       "      <td>0.0</td>\n",
       "    </tr>\n",
       "    <tr>\n",
       "      <th>8</th>\n",
       "      <td>8</td>\n",
       "      <td>1.0</td>\n",
       "      <td>0.0</td>\n",
       "    </tr>\n",
       "    <tr>\n",
       "      <th>9</th>\n",
       "      <td>9</td>\n",
       "      <td>1.0</td>\n",
       "      <td>0.0</td>\n",
       "    </tr>\n",
       "  </tbody>\n",
       "</table>\n",
       "</div>"
      ],
      "text/plain": [
       "   0 to 9  ones  zeros\n",
       "4       4   1.0    0.0\n",
       "5       5   1.0    0.0\n",
       "6       6   1.0    0.0\n",
       "7       7   1.0    0.0\n",
       "8       8   1.0    0.0\n",
       "9       9   1.0    0.0"
      ]
     },
     "execution_count": 36,
     "metadata": {},
     "output_type": "execute_result"
    }
   ],
   "source": [
    "df[df[\"0 to 9\"] > 3]"
   ]
  },
  {
   "cell_type": "markdown",
   "id": "c80851a0",
   "metadata": {},
   "source": [
    "## Using a Dictionary to Specify a DataFrame's Index\n",
    "When you save arrays in a dictionary, they do not include any particular index. Instead, pandas creates a general index from 0 to one less than the length of the array. If you do not need a particular index, this can work.\n",
    "\n",
    "It is often useful to create a dictionary and identify each value of interest individually. If you are a macroeconomist, you may, for example, collect data for “GDP”, “Real GDP”, the “Price Level”, and the quantity of “Money” (each key is in quotes). Below, we prepare a dictionary with values for years from 1990 to 2018."
   ]
  },
  {
   "cell_type": "code",
   "execution_count": 37,
   "id": "244e924e",
   "metadata": {
    "scrolled": true
   },
   "outputs": [
    {
     "name": "stdout",
     "output_type": "stream",
     "text": [
      "{'GDP': {1990: 8826.607936864877, 1991: 7656.309913909368, 1992: 9309.88665365393, 1993: 5492.890989513986, 1994: 4847.175499365244, 1995: 9911.08618373905, 1996: 630.6847553574446, 1997: 7522.311551973477, 1998: 8144.942690225607, 1999: 8787.510757443684, 2000: 2054.096322487333, 2001: 5927.797491585179, 2002: 7196.654944241014, 2003: 4987.951912194989, 2004: 5970.776530294089, 2005: 9670.533238421078, 2006: 327.1674762106469, 2007: 6967.6713477869225, 2008: 1147.1905669059945, 2009: 5293.396221364436, 2010: 9681.282941552552, 2011: 7299.011932685607, 2012: 642.6826398945174, 2013: 5931.588226166296, 2014: 91.40785480461267, 2015: 7293.512710681465, 2016: 5072.155917722118, 2017: 1133.6059008173195}, 'Money': {1990: 2943.7586994034805, 1991: 405.9110392017884, 1992: 3858.076858232692, 1993: 7079.79215203594, 1994: 7454.011944932959, 1995: 244.03331187081156, 1996: 9677.034761313884, 1997: 1205.0539646088332, 1998: 6794.401793585338, 1999: 6055.78889840562, 2000: 6332.007716313328, 2001: 9944.130389951417, 2002: 4587.185278264283, 2003: 8026.4250973224, 2004: 3489.955756014641, 2005: 1624.388630426229, 2006: 1448.4603984666799, 2007: 1908.719728998376, 2008: 4603.507215236077, 2009: 9652.2505206125, 2010: 400.86305027490334, 2011: 828.4892380463671, 2012: 508.3515405714811, 2013: 7141.19283420568, 2014: 6324.610029945551, 2015: 3443.1442983310535, 2016: 5214.636623991475, 2017: 8864.52620497504}, 'Real GDP': {1990: 9224.87733298215, 1991: 4236.908252925304, 1992: 8061.606936916734, 1993: 1529.6298663160712, 1994: 9.855838830581387, 1995: 6286.401908923992, 1996: 7009.243355664431, 1997: 7880.905155557842, 1998: 1643.761771220551, 1999: 4124.236224816469, 2000: 7456.325313889795, 2001: 9916.724323921606, 2002: 3865.3365851407652, 2003: 1320.9056335383273, 2004: 1426.2779345346244, 2005: 1950.7749124217733, 2006: 6046.710677133439, 2007: 8868.233959209767, 2008: 2300.1111756018136, 2009: 48.44526940034566, 2010: 2242.2254166077814, 2011: 6923.849517301518, 2012: 1295.4460143985568, 2013: 6590.1785193192145, 2014: 7357.182554573433, 2015: 4604.706787795957, 2016: 4135.484336459193, 2017: 7684.669565282881}, 'Price Level': {1990: 4380.431340631894, 1991: 5369.649470990247, 1992: 3741.828175340998, 1993: 3524.0822517843353, 1994: 4549.688643213426, 1995: 4644.025928558044, 1996: 9479.45145277111, 1997: 7761.144564018837, 1998: 8110.30894973797, 1999: 606.4158324109203, 2000: 1655.1024628854072, 2001: 182.61709895956767, 2002: 4953.608561530435, 2003: 7959.585091619384, 2004: 2978.420961320538, 2005: 2570.7480799414275, 2006: 8568.084709002987, 2007: 7042.201964768705, 2008: 1558.4447737054586, 2009: 4808.164216981105, 2010: 9414.35676490845, 2011: 898.1012372261777, 2012: 9477.021034535137, 2013: 8402.164705939622, 2014: 9612.253443297017, 2015: 2894.935523477962, 2016: 7836.347118458069, 2017: 4447.395451051934}}\n"
     ]
    }
   ],
   "source": [
    "import pandas as pd\n",
    "import numpy as np\n",
    "import random\n",
    "\n",
    "macro_dict = {\"GDP\" : {},\n",
    "             \"Money\" : {},\n",
    "             \"Real GDP\" : {},\n",
    "             \"Price Level\" : {}}\n",
    "\n",
    "for key in macro_dict:\n",
    "    for i in range(1990, 2018):\n",
    "        macro_dict[key][i] = np.random.random() * 10000\n",
    "\n",
    "print(macro_dict)"
   ]
  },
  {
   "cell_type": "code",
   "execution_count": 38,
   "id": "137b5202",
   "metadata": {
    "scrolled": true
   },
   "outputs": [
    {
     "name": "stdout",
     "output_type": "stream",
     "text": [
      "              GDP        Money     Real GDP  Price Level\n",
      "1990  8826.607937  2943.758699  9224.877333  4380.431341\n",
      "1991  7656.309914   405.911039  4236.908253  5369.649471\n",
      "1992  9309.886654  3858.076858  8061.606937  3741.828175\n",
      "1993  5492.890990  7079.792152  1529.629866  3524.082252\n",
      "1994  4847.175499  7454.011945     9.855839  4549.688643\n",
      "1995  9911.086184   244.033312  6286.401909  4644.025929\n",
      "1996   630.684755  9677.034761  7009.243356  9479.451453\n",
      "1997  7522.311552  1205.053965  7880.905156  7761.144564\n",
      "1998  8144.942690  6794.401794  1643.761771  8110.308950\n",
      "1999  8787.510757  6055.788898  4124.236225   606.415832\n",
      "2000  2054.096322  6332.007716  7456.325314  1655.102463\n",
      "2001  5927.797492  9944.130390  9916.724324   182.617099\n",
      "2002  7196.654944  4587.185278  3865.336585  4953.608562\n",
      "2003  4987.951912  8026.425097  1320.905634  7959.585092\n",
      "2004  5970.776530  3489.955756  1426.277935  2978.420961\n",
      "2005  9670.533238  1624.388630  1950.774912  2570.748080\n",
      "2006   327.167476  1448.460398  6046.710677  8568.084709\n",
      "2007  6967.671348  1908.719729  8868.233959  7042.201965\n",
      "2008  1147.190567  4603.507215  2300.111176  1558.444774\n",
      "2009  5293.396221  9652.250521    48.445269  4808.164217\n",
      "2010  9681.282942   400.863050  2242.225417  9414.356765\n",
      "2011  7299.011933   828.489238  6923.849517   898.101237\n",
      "2012   642.682640   508.351541  1295.446014  9477.021035\n",
      "2013  5931.588226  7141.192834  6590.178519  8402.164706\n",
      "2014    91.407855  6324.610030  7357.182555  9612.253443\n",
      "2015  7293.512711  3443.144298  4604.706788  2894.935523\n",
      "2016  5072.155918  5214.636624  4135.484336  7836.347118\n",
      "2017  1133.605901  8864.526205  7684.669565  4447.395451\n"
     ]
    }
   ],
   "source": [
    "macro_DF = pd.DataFrame(macro_dict)  \n",
    "print(macro_DF)\n"
   ]
  },
  {
   "cell_type": "code",
   "execution_count": 39,
   "id": "fcffe706",
   "metadata": {
    "scrolled": true
   },
   "outputs": [
    {
     "ename": "NameError",
     "evalue": "name 'Macro_DF' is not defined",
     "output_type": "error",
     "traceback": [
      "\u001b[1;31m---------------------------------------------------------------------------\u001b[0m",
      "\u001b[1;31mNameError\u001b[0m                                 Traceback (most recent call last)",
      "\u001b[1;32m~\\AppData\\Local\\Temp\\ipykernel_20352\\3050623963.py\u001b[0m in \u001b[0;36m<module>\u001b[1;34m\u001b[0m\n\u001b[1;32m----> 1\u001b[1;33m \u001b[0mMacro_DF\u001b[0m\u001b[1;33m[\u001b[0m\u001b[1;33m[\u001b[0m\u001b[1;34m\"GDP\"\u001b[0m\u001b[1;33m]\u001b[0m\u001b[1;33m]\u001b[0m\u001b[1;33m\u001b[0m\u001b[1;33m\u001b[0m\u001b[0m\n\u001b[0m",
      "\u001b[1;31mNameError\u001b[0m: name 'Macro_DF' is not defined"
     ]
    }
   ],
   "source": [
    "Macro_DF[[\"GDP\"]]"
   ]
  },
  {
   "cell_type": "code",
   "execution_count": null,
   "id": "64ecddab",
   "metadata": {
    "scrolled": true
   },
   "outputs": [],
   "source": [
    "macro_DF[\"Velocity\"] = macro_DF[\"GDP\"] / macro_DF[\"Money\"]\n",
    "print(macro_DF)"
   ]
  },
  {
   "cell_type": "code",
   "execution_count": null,
   "id": "02d02c3b",
   "metadata": {},
   "outputs": [],
   "source": [
    "macro_DF.loc[1995:2000]"
   ]
  },
  {
   "cell_type": "code",
   "execution_count": null,
   "id": "57050176",
   "metadata": {},
   "outputs": [],
   "source": [
    "macro_DF[\"Real GDP\"].loc[1995:2000]"
   ]
  },
  {
   "cell_type": "code",
   "execution_count": null,
   "id": "9dacdb2a",
   "metadata": {},
   "outputs": [],
   "source": [
    "macro_DF.plot()"
   ]
  },
  {
   "cell_type": "markdown",
   "id": "865f9b88",
   "metadata": {},
   "source": [
    "## Matplotlib"
   ]
  },
  {
   "cell_type": "code",
   "execution_count": null,
   "id": "f6f195cf",
   "metadata": {},
   "outputs": [],
   "source": [
    "import matplotlib.pyplot as plt\n",
    "%matplotlib inline\n",
    "macro_DF.plot.line(legend = \"best\")"
   ]
  },
  {
   "cell_type": "code",
   "execution_count": null,
   "id": "cd129560",
   "metadata": {},
   "outputs": [],
   "source": [
    "for key in macro_DF:\n",
    "    macro_DF[key].plot.line()\n",
    "    plt.title(key, fontsize = 20)\n",
    "    plt.show()\n",
    "    plt.close()"
   ]
  },
  {
   "cell_type": "markdown",
   "id": "3aba1b30",
   "metadata": {},
   "source": [
    "## Plotting the distribution of income"
   ]
  },
  {
   "cell_type": "code",
   "execution_count": null,
   "id": "39c9020c",
   "metadata": {},
   "outputs": [],
   "source": [
    "\n",
    "income_data = pd.read_excel(\"https://www2.census.gov/programs-surveys/cps/tables/hinc-06/2019/hinc06.xls\", header=[7])\n",
    "income_data = income_data.rename(columns = {\"Unnamed: 0\": \"Household Income\"})"
   ]
  },
  {
   "cell_type": "code",
   "execution_count": null,
   "id": "30b07d16",
   "metadata": {},
   "outputs": [],
   "source": [
    "income = income_data[\"Number\"][1:-1].div(1000)\n",
    "income.iloc[0] = 0\n",
    "income.head()"
   ]
  },
  {
   "cell_type": "code",
   "execution_count": null,
   "id": "790875a8",
   "metadata": {},
   "outputs": [],
   "source": [
    "## brackets for income\n",
    "income_levels = list(range(0, 201, 5))\n",
    "income_levels.append(250)\n",
    "income_levels = [str(i) + \"k\" for i in income_levels]\n",
    "income_levels.append(\"250k+\")\n",
    "print(income_levels)"
   ]
  },
  {
   "cell_type": "code",
   "execution_count": null,
   "id": "3133fc0d",
   "metadata": {},
   "outputs": [],
   "source": [
    "# cumulative totals of every bracket combined\n",
    "income_data = pd.DataFrame({\"Income Level\":np.array(income_levels),\n",
    "                           \"Households in Bracket\":income})\n",
    "income_data[\"Cumulative\"] = income_data[\"Households in Bracket\"].cumsum()\n",
    "income_data = income_data.fillna(0).set_index(\"Income Level\")\n",
    "income_data.head()"
   ]
  },
  {
   "cell_type": "code",
   "execution_count": null,
   "id": "7ec05ffa",
   "metadata": {
    "scrolled": true
   },
   "outputs": [],
   "source": [
    "income_data= pd.DataFrame({\"Income Level\":np.array(income_levels),\n",
    "                          \"Households in Bracket\":income})\n",
    "income_data[\"Cumulative\"] = income_data[\"Households in Bracket\"].cumsum()\n",
    "income_data.set_index(\"Income Level\", inplace = True )\n",
    "income_data"
   ]
  },
  {
   "cell_type": "code",
   "execution_count": null,
   "id": "8e698862",
   "metadata": {
    "scrolled": true
   },
   "outputs": [],
   "source": [
    "total_households =income_data[\"Households in Bracket\"].sum().round(3)\n",
    "income_data[\"% in Bracket\"] = income_data[\"Households in Bracket\"].div(total_households.sum()).mul(100)\n",
    "income_data[\"Cumulative %\"] = income_data[\"% in Bracket\"].cumsum().round(3)\n",
    "income_data"
   ]
  },
  {
   "cell_type": "code",
   "execution_count": null,
   "id": "02a20d95",
   "metadata": {},
   "outputs": [],
   "source": [
    "plt.rcParams.update({\"font.size\" : 16})\n",
    "fig, ax = plt.subplots(figsize = (15, 7))\n",
    "plot_df = income_data.dropna()\n",
    "plot_df.plot.bar( \n",
    "                                 y=[\"% in Bracket\",\"Cumulative %\"],\n",
    "                                 secondary_y = \"Cumulative %\", \n",
    "                                 fill=True, \n",
    "                                 alpha=.75, \n",
    "                                 width = .99,\n",
    "    legend = True,\n",
    "                                 ax=ax)\n",
    "x_ticklabels =[\"$\"+str(x) for x in plot_df.index]\n",
    "ax.set_xticklabels(x_ticklabels)\n",
    "\n",
    "y1_ticklabels =[str(y)+\"%\" for y in ax.get_yticks()]\n",
    "ax.set_yticklabels(y1_ticklabels)"
   ]
  },
  {
   "cell_type": "code",
   "execution_count": null,
   "id": "db50891f",
   "metadata": {},
   "outputs": [],
   "source": [
    "plot_df.index"
   ]
  },
  {
   "cell_type": "code",
   "execution_count": null,
   "id": "ce51de21",
   "metadata": {
    "scrolled": true
   },
   "outputs": [],
   "source": [
    "new_index =[]\n",
    "for ix in plot_df.index:\n",
    "    new_index.append(\"$\"+ix)\n",
    "    \n",
    "new_index"
   ]
  },
  {
   "cell_type": "code",
   "execution_count": null,
   "id": "ad467bdb",
   "metadata": {},
   "outputs": [],
   "source": [
    "income_25k_bin = income_data.loc[::5]\n",
    "income_25k_bin.loc[\"250k+\"]=income_data.iloc[-1]\n",
    "income_25k_bin[\"Households in Bracket\"] = income_25k_bin[\"Cumulative\"].diff()\n",
    "income_25k_bin"
   ]
  },
  {
   "cell_type": "code",
   "execution_count": null,
   "id": "98d39d16",
   "metadata": {},
   "outputs": [],
   "source": []
  }
 ],
 "metadata": {
  "kernelspec": {
   "display_name": "Python 3 (ipykernel)",
   "language": "python",
   "name": "python3"
  },
  "language_info": {
   "codemirror_mode": {
    "name": "ipython",
    "version": 3
   },
   "file_extension": ".py",
   "mimetype": "text/x-python",
   "name": "python",
   "nbconvert_exporter": "python",
   "pygments_lexer": "ipython3",
   "version": "3.9.13"
  }
 },
 "nbformat": 4,
 "nbformat_minor": 5
}
