{
 "cells": [
  {
   "cell_type": "markdown",
   "id": "393992fa",
   "metadata": {},
   "source": [
    "# Working With List"
   ]
  },
  {
   "cell_type": "code",
   "execution_count": 8,
   "id": "7cf15ee4",
   "metadata": {},
   "outputs": [
    {
     "name": "stdout",
     "output_type": "stream",
     "text": [
      "[]\n",
      "[1, 2, 3, 4, 5]\n",
      "[1.0, 2.0, 3.0, 4.0, 5.0]\n",
      "['Many words', 'improverished meaning']\n",
      "[1, 2.0, 'Mix it up']\n"
     ]
    }
   ],
   "source": [
    "#lists\n",
    "empty_list=[]\n",
    "int_list=[1,2,3,4,5]\n",
    "float_list=[1.0,2.0,3.0,4.0,5.0]\n",
    "string_list=[\"Many words\",\"improverished meaning\"]\n",
    "mixed_list=[1,2.0,\"Mix it up\"]\n",
    "\n",
    "print(empty_list)  \n",
    "print(int_list)  \n",
    "print(float_list)  \n",
    "print(string_list)  \n",
    "print(mixed_list)"
   ]
  },
  {
   "cell_type": "markdown",
   "id": "c15a278f",
   "metadata": {},
   "source": [
    "##Concatenation: Lists"
   ]
  },
  {
   "cell_type": "code",
   "execution_count": 10,
   "id": "0c3001ce",
   "metadata": {},
   "outputs": [
    {
     "name": "stdout",
     "output_type": "stream",
     "text": [
      "list1: [5, 4, 9, 10, 3, 5]\n",
      "list2: [6, 3, 2, 1, 5, 3]\n",
      "[5, 4, 9, 10, 3, 5, 6, 3, 2, 1, 5, 3]\n"
     ]
    }
   ],
   "source": [
    "list1 = [5,4,9,10,3,5]\n",
    "list2 = [6,3,2,1,5,3]\n",
    "join_lists=list1+list2\n",
    "\n",
    "print(\"list1:\", list1)\n",
    "print(\"list2:\", list2)\n",
    "print(join_lists)"
   ]
  },
  {
   "cell_type": "markdown",
   "id": "81423daa",
   "metadata": {},
   "source": [
    "a for loop using in range will cycle through variable i from integer j to k - 1 by increments for l\n",
    "for i in rang(j,k,l):\n",
    "\n",
    "execute script"
   ]
  },
  {
   "cell_type": "markdown",
   "id": "57ec6cd5",
   "metadata": {},
   "source": [
    "# For Loops and _range()_\n",
    "\n",
    "\n",
    "| New Concepts | Description |\n",
    "| --- | --- |\n",
    "| _list(obj)_ | List transforms an iterable object, such as a tuple or set, into a dynamic list. |\n",
    "| _range(j, k , l)_ | Identifies a range of integers from _j&nbsp;_ to _k–1_ separated by some interval _l_. |\n",
    "|_len(obj)_ | Measure the length of an iterable object. |\n",
    "\n",
    "\n",
    "We can use a for loop to more efficiently execute this task. As we saw in the last chapter, the for loop will execute a series of elements: for element in list. Often, this list is a range of numbers that represent the index of a dynamic list. For this purpose we call:"
   ]
  },
  {
   "cell_type": "code",
   "execution_count": 13,
   "id": "09504072",
   "metadata": {
    "scrolled": true
   },
   "outputs": [
    {
     "name": "stdout",
     "output_type": "stream",
     "text": [
      "1\n",
      "2\n",
      "3\n",
      "4\n",
      "5\n",
      "6\n",
      "7\n",
      "8\n",
      "9\n",
      "10\n",
      "11\n",
      "12\n",
      "13\n",
      "14\n",
      "15\n",
      "16\n",
      "17\n",
      "18\n",
      "19\n",
      "20\n",
      "21\n",
      "22\n",
      "23\n",
      "24\n",
      "25\n",
      "26\n",
      "27\n",
      "28\n",
      "29\n",
      "30\n",
      "31\n",
      "32\n",
      "33\n",
      "34\n",
      "35\n",
      "36\n",
      "37\n",
      "38\n",
      "39\n",
      "40\n",
      "41\n",
      "42\n",
      "43\n",
      "44\n",
      "45\n",
      "46\n",
      "47\n",
      "48\n",
      "49\n",
      "50\n",
      "51\n",
      "52\n",
      "53\n",
      "54\n",
      "55\n",
      "56\n",
      "57\n",
      "58\n",
      "59\n",
      "60\n",
      "61\n",
      "62\n",
      "63\n",
      "64\n",
      "65\n",
      "66\n",
      "67\n",
      "68\n",
      "69\n",
      "70\n",
      "71\n",
      "72\n",
      "73\n",
      "74\n",
      "75\n",
      "76\n",
      "77\n",
      "78\n",
      "79\n",
      "80\n",
      "81\n",
      "82\n",
      "83\n",
      "84\n",
      "85\n",
      "86\n",
      "87\n",
      "88\n",
      "89\n",
      "90\n",
      "91\n",
      "92\n",
      "93\n",
      "94\n",
      "95\n",
      "96\n",
      "97\n",
      "98\n",
      "99\n"
     ]
    }
   ],
   "source": [
    "for i in range(1, 100):\n",
    "    print(i)"
   ]
  },
  {
   "cell_type": "code",
   "execution_count": 18,
   "id": "1bceceab",
   "metadata": {
    "scrolled": true
   },
   "outputs": [
    {
     "name": "stdout",
     "output_type": "stream",
     "text": [
      "1 1\n",
      "2 3\n",
      "3 6\n",
      "4 10\n",
      "5 15\n",
      "6 21\n",
      "7 28\n",
      "8 36\n",
      "9 45\n",
      "10 55\n",
      "11 66\n",
      "12 78\n",
      "13 91\n",
      "14 105\n",
      "15 120\n",
      "16 136\n",
      "17 153\n",
      "18 171\n",
      "19 190\n",
      "20 210\n",
      "21 231\n",
      "22 253\n",
      "23 276\n",
      "24 300\n",
      "25 325\n",
      "26 351\n",
      "27 378\n",
      "28 406\n",
      "29 435\n",
      "30 465\n",
      "31 496\n",
      "32 528\n",
      "33 561\n",
      "34 595\n",
      "35 630\n",
      "36 666\n",
      "37 703\n",
      "38 741\n",
      "39 780\n",
      "40 820\n",
      "41 861\n",
      "42 903\n",
      "43 946\n",
      "44 990\n",
      "45 1035\n",
      "46 1081\n",
      "47 1128\n",
      "48 1176\n",
      "49 1225\n",
      "50 1275\n",
      "51 1326\n",
      "52 1378\n",
      "53 1431\n",
      "54 1485\n",
      "55 1540\n",
      "56 1596\n",
      "57 1653\n",
      "58 1711\n",
      "59 1770\n",
      "60 1830\n",
      "61 1891\n",
      "62 1953\n",
      "63 2016\n",
      "64 2080\n",
      "65 2145\n",
      "66 2211\n",
      "67 2278\n",
      "68 2346\n",
      "69 2415\n",
      "70 2485\n",
      "71 2556\n",
      "72 2628\n",
      "73 2701\n",
      "74 2775\n",
      "75 2850\n",
      "76 2926\n",
      "77 3003\n",
      "78 3081\n",
      "79 3160\n",
      "80 3240\n",
      "81 3321\n",
      "82 3403\n",
      "83 3486\n",
      "84 3570\n",
      "85 3655\n",
      "86 3741\n",
      "87 3828\n",
      "88 3916\n",
      "89 4005\n",
      "90 4095\n",
      "91 4186\n",
      "92 4278\n",
      "93 4371\n",
      "94 4465\n",
      "95 4560\n",
      "96 4656\n",
      "97 4753\n",
      "98 4851\n",
      "99 4950\n",
      "100 5050\n",
      "5050\n"
     ]
    }
   ],
   "source": [
    "total = 0\n",
    "for i in range(1, 101):\n",
    "    total = total + i\n",
    "    print(i,total)\n",
    "print(total)"
   ]
  },
  {
   "cell_type": "code",
   "execution_count": 22,
   "id": "854b400f",
   "metadata": {
    "scrolled": true
   },
   "outputs": [
    {
     "name": "stdout",
     "output_type": "stream",
     "text": [
      "1 1\n",
      "3 4\n",
      "5 9\n",
      "7 16\n",
      "9 25\n",
      "11 36\n",
      "13 49\n",
      "15 64\n",
      "17 81\n",
      "19 100\n",
      "21 121\n",
      "23 144\n",
      "25 169\n",
      "27 196\n",
      "29 225\n",
      "31 256\n",
      "33 289\n",
      "35 324\n",
      "37 361\n",
      "39 400\n",
      "41 441\n",
      "43 484\n",
      "45 529\n",
      "47 576\n",
      "49 625\n",
      "51 676\n",
      "53 729\n",
      "55 784\n",
      "57 841\n",
      "59 900\n",
      "61 961\n",
      "63 1024\n",
      "65 1089\n",
      "67 1156\n",
      "69 1225\n",
      "71 1296\n",
      "73 1369\n",
      "75 1444\n",
      "77 1521\n",
      "79 1600\n",
      "81 1681\n",
      "83 1764\n",
      "85 1849\n",
      "87 1936\n",
      "89 2025\n",
      "91 2116\n",
      "93 2209\n",
      "95 2304\n",
      "97 2401\n",
      "99 2500\n"
     ]
    }
   ],
   "source": [
    "total = 0\n",
    "for i in range(1, 101,2):\n",
    "    total = total + i\n",
    "    print(i,total)"
   ]
  },
  {
   "cell_type": "code",
   "execution_count": 17,
   "id": "079a0153",
   "metadata": {
    "scrolled": false
   },
   "outputs": [
    {
     "name": "stdout",
     "output_type": "stream",
     "text": [
      "5\n",
      "4\n",
      "9\n",
      "10\n",
      "3\n",
      "5\n",
      "j False\n",
      "h False\n",
      "t False\n",
      "i False\n",
      "4 False\n",
      "k True\n",
      "3 False\n",
      "h False\n",
      "2 False\n",
      "u False\n",
      "3 False\n",
      "i False\n"
     ]
    }
   ],
   "source": [
    "lsit1=[543,342,6,435,543]\n",
    "str1 =\"jhti4k3h2u3i\"\n",
    "\n",
    "for val in list1:\n",
    "    print(val)\n",
    "    \n",
    "for string in str1:\n",
    "    print(string, string ==\"k\")"
   ]
  },
  {
   "cell_type": "code",
   "execution_count": 3,
   "id": "2e2d738e",
   "metadata": {},
   "outputs": [
    {
     "data": {
      "text/plain": [
       "[1, 2, 3, 4]"
      ]
     },
     "execution_count": 3,
     "metadata": {},
     "output_type": "execute_result"
    }
   ],
   "source": [
    "list1 =[1,2]\n",
    "list2 =[3,4]\n",
    "list1 +list2"
   ]
  },
  {
   "cell_type": "markdown",
   "id": "7a7cb5db",
   "metadata": {},
   "source": [
    "#More on range()"
   ]
  },
  {
   "cell_type": "code",
   "execution_count": 6,
   "id": "94cef883",
   "metadata": {},
   "outputs": [
    {
     "name": "stdout",
     "output_type": "stream",
     "text": [
      "0\n",
      "2\n",
      "4\n",
      "6\n",
      "8\n",
      "[0, 2, 4, 6, 8]\n"
     ]
    }
   ],
   "source": [
    "list1 =[]\n",
    "for i in range(0,9,2):\n",
    "    print(i)\n",
    "    list1.append(i)\n",
    "print(list1)\n",
    "#crate a list by appending valuses to the list"
   ]
  },
  {
   "cell_type": "code",
   "execution_count": 7,
   "id": "d9eabb56",
   "metadata": {},
   "outputs": [
    {
     "data": {
      "text/plain": [
       "[0, 4, 8]"
      ]
     },
     "execution_count": 7,
     "metadata": {},
     "output_type": "execute_result"
    }
   ],
   "source": [
    "#create a list by passing list(range(i,j,l))\n",
    "#more efficent then using append\n",
    "list2= list(range(0,9,4))\n",
    "list2"
   ]
  },
  {
   "cell_type": "code",
   "execution_count": 8,
   "id": "4a55fb40",
   "metadata": {},
   "outputs": [
    {
     "data": {
      "text/plain": [
       "[0, 1, 2, 3, 4, 5, 6, 7, 8]"
      ]
     },
     "execution_count": 8,
     "metadata": {},
     "output_type": "execute_result"
    }
   ],
   "source": [
    "list2= list(range(0,9,1))\n",
    "list2"
   ]
  },
  {
   "cell_type": "markdown",
   "id": "d6b81ac9",
   "metadata": {},
   "source": [
    "# Using len() with range"
   ]
  },
  {
   "cell_type": "code",
   "execution_count": 11,
   "id": "429e5f71",
   "metadata": {},
   "outputs": [
    {
     "name": "stdout",
     "output_type": "stream",
     "text": [
      "i val\n",
      "0 0\n",
      "1 1\n",
      "2 2\n",
      "3 3\n",
      "4 4\n",
      "5 5\n",
      "6 6\n",
      "7 7\n",
      "8 8\n"
     ]
    }
   ],
   "source": [
    "list2_len = len(list2)\n",
    "print(\"i\",\"val\")\n",
    "for i in range(list2_len):\n",
    "    print(i,list2[i])\n",
    "    "
   ]
  },
  {
   "cell_type": "code",
   "execution_count": 18,
   "id": "caab7995",
   "metadata": {},
   "outputs": [
    {
     "name": "stdout",
     "output_type": "stream",
     "text": [
      "i val\n",
      "1 [0, 1, 2, 3, 4, 5, 6, 7, 8]\n",
      "length: 9\n",
      "j val\n",
      "0 0\n",
      "1 1\n",
      "2 2\n",
      "3 3\n",
      "4 4\n",
      "5 5\n",
      "6 6\n",
      "7 7\n",
      "8 8\n",
      "2 [0, 2, 4, 6, 8]\n",
      "length: 5\n",
      "j val\n",
      "0 0\n",
      "1 2\n",
      "2 4\n",
      "3 6\n",
      "4 8\n",
      "3 [0, 3, 6]\n",
      "length: 3\n",
      "j val\n",
      "0 0\n",
      "1 3\n",
      "2 6\n",
      "4 [0, 4, 8]\n",
      "length: 3\n",
      "j val\n",
      "0 0\n",
      "1 4\n",
      "2 8\n",
      "5 [0, 5]\n",
      "length: 2\n",
      "j val\n",
      "0 0\n",
      "1 5\n"
     ]
    }
   ],
   "source": [
    "list2_len =len(list2)\n",
    "print(\"i\",\"val\")\n",
    "\n",
    "#create a new list2 according to the intveral values clled by the for loop\n",
    "for interval in range(1,6):\n",
    "    list2 = list(range(0,9, interval))\n",
    "    print(interval,list2)\n",
    "    list2_len=len(list2)\n",
    "    print(\"length:\",list2_len)\n",
    "    print(\"j\",\"val\")\n",
    "    \n",
    "    for j in range(list2_len):\n",
    "        print(j, list2[j])\n",
    "    \n",
    "\n",
    "\n"
   ]
  },
  {
   "cell_type": "markdown",
   "id": "0dadf19e",
   "metadata": {},
   "source": [
    "# If statements and boolean variables"
   ]
  },
  {
   "cell_type": "code",
   "execution_count": 19,
   "id": "06a6eef9",
   "metadata": {},
   "outputs": [
    {
     "data": {
      "text/plain": [
       "True"
      ]
     },
     "execution_count": 19,
     "metadata": {},
     "output_type": "execute_result"
    }
   ],
   "source": [
    "#Boolean\n",
    "True"
   ]
  },
  {
   "cell_type": "code",
   "execution_count": 20,
   "id": "7ac1e9ee",
   "metadata": {},
   "outputs": [
    {
     "data": {
      "text/plain": [
       "False"
      ]
     },
     "execution_count": 20,
     "metadata": {},
     "output_type": "execute_result"
    }
   ],
   "source": [
    "False"
   ]
  },
  {
   "cell_type": "code",
   "execution_count": 21,
   "id": "2dc91475",
   "metadata": {},
   "outputs": [
    {
     "data": {
      "text/plain": [
       "0"
      ]
     },
     "execution_count": 21,
     "metadata": {},
     "output_type": "execute_result"
    }
   ],
   "source": [
    "True * False "
   ]
  },
  {
   "cell_type": "code",
   "execution_count": 22,
   "id": "d605634c",
   "metadata": {},
   "outputs": [
    {
     "data": {
      "text/plain": [
       "1"
      ]
     },
     "execution_count": 22,
     "metadata": {},
     "output_type": "execute_result"
    }
   ],
   "source": [
    "True * True"
   ]
  },
  {
   "cell_type": "code",
   "execution_count": 23,
   "id": "a0853a4f",
   "metadata": {},
   "outputs": [
    {
     "data": {
      "text/plain": [
       "0"
      ]
     },
     "execution_count": 23,
     "metadata": {},
     "output_type": "execute_result"
    }
   ],
   "source": [
    "False * False"
   ]
  },
  {
   "cell_type": "code",
   "execution_count": 25,
   "id": "d5b035e1",
   "metadata": {},
   "outputs": [
    {
     "name": "stdout",
     "output_type": "stream",
     "text": [
      "True\n"
     ]
    }
   ],
   "source": [
    "boolean = True \n",
    "if boolean: \n",
    "    print(boolean)\n",
    "    \n",
    "boolean2 = False \n",
    "if boolean2:\n",
    "    print(boolean)\n",
    "    #only prints if true"
   ]
  },
  {
   "cell_type": "code",
   "execution_count": 27,
   "id": "80468d3c",
   "metadata": {},
   "outputs": [
    {
     "name": "stdout",
     "output_type": "stream",
     "text": [
      "True\n",
      "True\n"
     ]
    }
   ],
   "source": [
    "boolean = True \n",
    "if boolean: \n",
    "    print(boolean)\n",
    "    \n",
    "boolean2 = False \n",
    "if boolean2 == False: \n",
    "    print(boolean)\n",
    "    #the way to change the disired outcome"
   ]
  },
  {
   "cell_type": "code",
   "execution_count": 1,
   "id": "c0cec370",
   "metadata": {},
   "outputs": [
    {
     "data": {
      "text/plain": [
       "False"
      ]
     },
     "execution_count": 1,
     "metadata": {},
     "output_type": "execute_result"
    }
   ],
   "source": [
    "# != means \"not equal\"\n",
    "1 != True"
   ]
  },
  {
   "cell_type": "markdown",
   "id": "df2beb60",
   "metadata": {},
   "source": [
    "## Use a voolean variable and a conditional statement to track the appearance of a word"
   ]
  },
  {
   "cell_type": "code",
   "execution_count": 8,
   "id": "2b222508",
   "metadata": {},
   "outputs": [
    {
     "name": "stdout",
     "output_type": "stream",
     "text": [
      "0 The\n",
      "Is the word, \"ate\"?: False\n",
      "1 dog\n",
      "Is the word, \"ate\"?: False\n",
      "2 ate\n",
      "Is the word, \"ate\"?: True\n",
      "3 the\n",
      "Is the word, \"ate\"?: False\n",
      "4 snow\n",
      "Is the word, \"ate\"?: False\n"
     ]
    },
    {
     "data": {
      "text/plain": [
       "[2]"
      ]
     },
     "execution_count": 8,
     "metadata": {},
     "output_type": "execute_result"
    }
   ],
   "source": [
    "words =(\"The\", \"dog\", \"ate\", \"the\", \"snow\")\n",
    "# the word \"ate\" appear in the list? if so where?\n",
    "ate_index_list=[]\n",
    "num_words = len(words)\n",
    "for i in range(num_words):\n",
    "    word = words[i]\n",
    "    print(i, word)\n",
    "    is_ate= word ==\"ate\"\n",
    "    print(\"Is the word, \\\"ate\\\"?:\", is_ate)\n",
    "    # if the word is \"ate\", then add the index to the list so that we can have an easy to refernce record of indices where ate\n",
    "    #appears\n",
    "    if is_ate:\n",
    "        ate_index_list.append(i)\n",
    "ate_index_list\n",
    "        "
   ]
  },
  {
   "cell_type": "markdown",
   "id": "b67d9244",
   "metadata": {},
   "source": [
    "# if, else, and elif"
   ]
  },
  {
   "cell_type": "code",
   "execution_count": 9,
   "id": "e1a85437",
   "metadata": {},
   "outputs": [
    {
     "name": "stdout",
     "output_type": "stream",
     "text": [
      "1 is not greater than 10\n",
      "6 is not greater than 10\n",
      "23 is greater than 10\n",
      "765432 is greater than 10\n",
      "432 is greater than 10\n",
      "1 is not greater than 10\n",
      "34 is greater than 10\n",
      "43 is greater than 10\n",
      "5 is not greater than 10\n",
      "7 is not greater than 10\n",
      "4 is not greater than 10\n"
     ]
    }
   ],
   "source": [
    "random_numbers =[1,6,23,765432,432,1,34,43,5,7,4]\n",
    "not_greater_than_10=[]\n",
    "greater_than_10=[]\n",
    "#is the number greater than 10\n",
    "for number in random_numbers:\n",
    "    if number > 10:\n",
    "        print(number, \"is greater than 10\")\n",
    "        greater_than_10.append(number)\n",
    "    else:\n",
    "        print(number,\"is not greater than 10\")\n",
    "        not_greater_than_10.append(number)\n",
    "    "
   ]
  },
  {
   "cell_type": "code",
   "execution_count": 10,
   "id": "9b7633d3",
   "metadata": {},
   "outputs": [
    {
     "data": {
      "text/plain": [
       "[23, 765432, 432, 34, 43]"
      ]
     },
     "execution_count": 10,
     "metadata": {},
     "output_type": "execute_result"
    }
   ],
   "source": [
    "greater_than_10"
   ]
  },
  {
   "cell_type": "code",
   "execution_count": 11,
   "id": "687ddf49",
   "metadata": {},
   "outputs": [
    {
     "data": {
      "text/plain": [
       "[1, 6, 1, 5, 7, 4]"
      ]
     },
     "execution_count": 11,
     "metadata": {},
     "output_type": "execute_result"
    }
   ],
   "source": [
    "not_greater_than_10"
   ]
  },
  {
   "cell_type": "code",
   "execution_count": 17,
   "id": "cdc1e1f9",
   "metadata": {},
   "outputs": [
    {
     "name": "stdout",
     "output_type": "stream",
     "text": [
      "1 is not greater than 10, but greater than 0\n",
      "6 is not greater than 10, but greater than 0\n",
      "23 is greater than 10\n",
      "765432 is greater than 10\n",
      "432 is greater than 10\n",
      "1 is not greater than 10, but greater than 0\n",
      "34 is greater than 10\n",
      "43 is greater than 10\n",
      "5 is not greater than 10, but greater than 0\n",
      "7 is not greater than 10, but greater than 0\n",
      "4 is not greater than 10, but greater than 0\n",
      "-1 is negative\n",
      "-45 is negative\n",
      "-103 is negative\n"
     ]
    }
   ],
   "source": [
    "random_numbers =[1,6,23,765432,432,1,34,43,5,7,4, -1, -45, -103]\n",
    "not_greater_than1_0=[]\n",
    "greater_than1_10=[]\n",
    "greater_than1_0=[]\n",
    "#is the number greater than 10\n",
    "for number in random_numbers:\n",
    "    if number > 10:\n",
    "        print(number, \"is greater than 10\")\n",
    "        greater_than1_10.append(number)\n",
    "    elif number >=0:\n",
    "        print(number,\"is not greater than 10, but greater than 0\")\n",
    "        greater_than1_0.append(number)\n",
    "       \n",
    "    else:\n",
    "        print(number, \"is negative\")\n",
    "        not_greater_than1_0.append(number)\n",
    "    "
   ]
  },
  {
   "cell_type": "code",
   "execution_count": 18,
   "id": "fd98fecb",
   "metadata": {},
   "outputs": [
    {
     "data": {
      "text/plain": [
       "([-1, -45, -103], [23, 765432, 432, 34, 43], [1, 6, 1, 5, 7, 4])"
      ]
     },
     "execution_count": 18,
     "metadata": {},
     "output_type": "execute_result"
    }
   ],
   "source": [
    "not_greater_than1_0, greater_than1_10, greater_than1_0"
   ]
  },
  {
   "cell_type": "code",
   "execution_count": 19,
   "id": "b06038c7",
   "metadata": {},
   "outputs": [
    {
     "data": {
      "text/plain": [
       "([23, 432, 34, 43], [1, 1, 5, 7, 4], [-1, -103])"
      ]
     },
     "execution_count": 19,
     "metadata": {},
     "output_type": "execute_result"
    }
   ],
   "source": [
    "# use del lst[i] to delete the ith element from lst\n",
    "del greater_than1_10[1]\n",
    "del greater_than1_0[1]\n",
    "del not_greater_than1_0[1]\n",
    "greater_than1_10, greater_than1_0, not_greater_than1_0 "
   ]
  },
  {
   "cell_type": "code",
   "execution_count": 20,
   "id": "f28558d5",
   "metadata": {},
   "outputs": [
    {
     "data": {
      "text/plain": [
       "([23, 432, 34], [1, 1, 5, 7], [-1])"
      ]
     },
     "execution_count": 20,
     "metadata": {},
     "output_type": "execute_result"
    }
   ],
   "source": [
    "# passing -1 as a list calls the last element in the list\n",
    "# passing -1 when using del lst[i] will delete the last element in the list\n",
    "del greater_than1_10[-1]\n",
    "del greater_than1_0[-1]\n",
    "del not_greater_than1_0[-1]\n",
    "greater_than1_10, greater_than1_0, not_greater_than1_0 "
   ]
  },
  {
   "cell_type": "markdown",
   "id": "a5d4abb6",
   "metadata": {},
   "source": [
    "## Use lst.remove(val)"
   ]
  },
  {
   "cell_type": "code",
   "execution_count": 21,
   "id": "ced02f1e",
   "metadata": {},
   "outputs": [
    {
     "data": {
      "text/plain": [
       "([432, 34], [1, 5, 7])"
      ]
     },
     "execution_count": 21,
     "metadata": {},
     "output_type": "execute_result"
    }
   ],
   "source": [
    "# use lst.remove(val)\n",
    "greater_than1_10.remove(23)\n",
    "\n",
    "#if you rmove a value that appers twice in the list, than the first apperance of that value will be removed\n",
    "\n",
    "greater_than1_0.remove(1)\n",
    "greater_than1_10,greater_than1_0"
   ]
  },
  {
   "cell_type": "markdown",
   "id": "5a4097ef",
   "metadata": {},
   "source": [
    "## Use lst.pop()"
   ]
  },
  {
   "cell_type": "code",
   "execution_count": 26,
   "id": "1ab65de3",
   "metadata": {},
   "outputs": [
    {
     "data": {
      "text/plain": [
       "([23, 765432, 432, 34], 43)"
      ]
     },
     "execution_count": 26,
     "metadata": {},
     "output_type": "execute_result"
    }
   ],
   "source": [
    "last_val_in_lst = greater_than_10.pop()\n",
    "greater_than_10, last_val_in_lst"
   ]
  },
  {
   "cell_type": "markdown",
   "id": "9a77092a",
   "metadata": {},
   "source": [
    "## Sorthing lists"
   ]
  },
  {
   "cell_type": "code",
   "execution_count": 28,
   "id": "645bd064",
   "metadata": {},
   "outputs": [
    {
     "data": {
      "text/plain": [
       "([4, 1, 2, 5, 543, 22], [1, 2, 4, 5, 22, 543], [4, 1, 2, 5, 543, 22])"
      ]
     },
     "execution_count": 28,
     "metadata": {},
     "output_type": "execute_result"
    }
   ],
   "source": [
    "# soted(lst) will sprt a copy of lst\n",
    "num_list =[4,1,2,5,543,22]\n",
    "num_list, sorted(num_list),num_list"
   ]
  },
  {
   "cell_type": "code",
   "execution_count": 29,
   "id": "bcc4d4b6",
   "metadata": {},
   "outputs": [
    {
     "data": {
      "text/plain": [
       "(['A', 'list', 'of', 'strings', ' is', 'in', 'string_lsit'],\n",
       " [' is', 'A', 'in', 'list', 'of', 'string_lsit', 'strings'])"
      ]
     },
     "execution_count": 29,
     "metadata": {},
     "output_type": "execute_result"
    }
   ],
   "source": [
    "string_list =[\"A\", \"list\", \"of\",\"strings\",\" is\", \"in\", \"string_lsit\"]\n",
    "string_list, sorted(string_list)"
   ]
  },
  {
   "cell_type": "code",
   "execution_count": 30,
   "id": "7f202fd0",
   "metadata": {},
   "outputs": [
    {
     "data": {
      "text/plain": [
       "[1, 2, 4, 5, 22, 543]"
      ]
     },
     "execution_count": 30,
     "metadata": {},
     "output_type": "execute_result"
    }
   ],
   "source": [
    "#lst.sort() wll sort the original list object\n",
    "num_list.sort()\n",
    "num_list"
   ]
  },
  {
   "cell_type": "code",
   "execution_count": 31,
   "id": "36c1fe32",
   "metadata": {},
   "outputs": [
    {
     "ename": "TypeError",
     "evalue": "'<' not supported between instances of 'str' and 'int'",
     "output_type": "error",
     "traceback": [
      "\u001b[1;31m---------------------------------------------------------------------------\u001b[0m",
      "\u001b[1;31mTypeError\u001b[0m                                 Traceback (most recent call last)",
      "\u001b[1;32m~\\AppData\\Local\\Temp\\ipykernel_2036\\1137543858.py\u001b[0m in \u001b[0;36m<module>\u001b[1;34m\u001b[0m\n\u001b[0;32m      1\u001b[0m \u001b[1;31m# sorting miced types will generate an error\u001b[0m\u001b[1;33m\u001b[0m\u001b[1;33m\u001b[0m\u001b[0m\n\u001b[0;32m      2\u001b[0m \u001b[1;31m# you cannot compare strings and numerical values\u001b[0m\u001b[1;33m\u001b[0m\u001b[1;33m\u001b[0m\u001b[0m\n\u001b[1;32m----> 3\u001b[1;33m \u001b[0msorted\u001b[0m\u001b[1;33m(\u001b[0m\u001b[0mnum_list\u001b[0m\u001b[1;33m+\u001b[0m\u001b[0mstring_list\u001b[0m\u001b[1;33m)\u001b[0m\u001b[1;33m\u001b[0m\u001b[1;33m\u001b[0m\u001b[0m\n\u001b[0m",
      "\u001b[1;31mTypeError\u001b[0m: '<' not supported between instances of 'str' and 'int'"
     ]
    }
   ],
   "source": [
    "# sorting miced types will generate an error\n",
    "# you cannot compare strings and numerical values\n",
    "sorted(num_list+string_list)"
   ]
  },
  {
   "cell_type": "markdown",
   "id": "0215268d",
   "metadata": {},
   "source": [
    "## List slices"
   ]
  },
  {
   "cell_type": "code",
   "execution_count": 32,
   "id": "7c706a8c",
   "metadata": {},
   "outputs": [
    {
     "data": {
      "text/plain": [
       "([1, 2, 3, 4, 5, 6, 6, 7], [3, 4, 5])"
      ]
     },
     "execution_count": 32,
     "metadata": {},
     "output_type": "execute_result"
    }
   ],
   "source": [
    "# a slice of a list takes a subset of values form a list\n",
    "lst = [1,2,3,4,5,6,6,7]\n",
    "# compare full list to sliced list\n",
    "lst, lst[2:5]"
   ]
  },
  {
   "cell_type": "code",
   "execution_count": 33,
   "id": "9b95b016",
   "metadata": {},
   "outputs": [
    {
     "data": {
      "text/plain": [
       "([1, 2, 3, 4, 5, 6, 6, 7], [1, 3, 5, 6])"
      ]
     },
     "execution_count": 33,
     "metadata": {},
     "output_type": "execute_result"
    }
   ],
   "source": [
    "#count through the index by twos\n",
    "#explicit start and end index values\n",
    "lst, lst[0:-1:2]"
   ]
  },
  {
   "cell_type": "markdown",
   "id": "4a20a2d9",
   "metadata": {},
   "source": [
    "## Lists and generator functions"
   ]
  },
  {
   "cell_type": "code",
   "execution_count": 34,
   "id": "f635a558",
   "metadata": {},
   "outputs": [
    {
     "data": {
      "text/plain": [
       "<generator object <genexpr> at 0x000001CEE85D4DD0>"
      ]
     },
     "execution_count": 34,
     "metadata": {},
     "output_type": "execute_result"
    }
   ],
   "source": [
    "# save a generator function without creating a list \n",
    "generator = ( i for i in range (20))\n",
    "generator"
   ]
  },
  {
   "cell_type": "code",
   "execution_count": 35,
   "id": "d8a073a4",
   "metadata": {},
   "outputs": [
    {
     "data": {
      "text/plain": [
       "[0, 1, 2, 3, 4, 5, 6, 7, 8, 9, 10, 11, 12, 13, 14, 15, 16, 17, 18, 19]"
      ]
     },
     "execution_count": 35,
     "metadata": {},
     "output_type": "execute_result"
    }
   ],
   "source": [
    "list1= list(generator)\n",
    "list1"
   ]
  },
  {
   "cell_type": "code",
   "execution_count": 36,
   "id": "a7086f5b",
   "metadata": {},
   "outputs": [
    {
     "data": {
      "text/plain": [
       "[0, 2, 4, 6, 8, 10, 12, 14, 16, 18, 20, 22, 24, 26, 28, 30, 32, 34, 36, 38]"
      ]
     },
     "execution_count": 36,
     "metadata": {},
     "output_type": "execute_result"
    }
   ],
   "source": [
    "list2 = [2 * i for i in range(20)]\n",
    "list2"
   ]
  },
  {
   "cell_type": "code",
   "execution_count": null,
   "id": "50a5f563",
   "metadata": {},
   "outputs": [],
   "source": []
  }
 ],
 "metadata": {
  "kernelspec": {
   "display_name": "Python 3 (ipykernel)",
   "language": "python",
   "name": "python3"
  },
  "language_info": {
   "codemirror_mode": {
    "name": "ipython",
    "version": 3
   },
   "file_extension": ".py",
   "mimetype": "text/x-python",
   "name": "python",
   "nbconvert_exporter": "python",
   "pygments_lexer": "ipython3",
   "version": "3.9.13"
  }
 },
 "nbformat": 4,
 "nbformat_minor": 5
}
