{
 "cells": [
  {
   "cell_type": "markdown",
   "id": "340c5f78",
   "metadata": {},
   "source": [
    "## #1"
   ]
  },
  {
   "cell_type": "code",
   "execution_count": 49,
   "id": "79436ab3",
   "metadata": {},
   "outputs": [],
   "source": [
    "import pandas as pd"
   ]
  },
  {
   "cell_type": "code",
   "execution_count": 70,
   "id": "61d9219b",
   "metadata": {},
   "outputs": [],
   "source": [
    "person1_dict={\"Jessie Diggins\":\n",
    "               {\"Area of expertise\":\"Nordic/Cross Country Skiing\",\n",
    "               \"Bio\":\"Jessie Diggins is a olymipc athlete from Minniesota.She has multiple medals inlcuding the only US gold medal in the sport.\",\n",
    "               \"Website\":\"https://jessiediggins.com/\"}}"
   ]
  },
  {
   "cell_type": "code",
   "execution_count": 71,
   "id": "61dbca94",
   "metadata": {},
   "outputs": [
    {
     "data": {
      "text/plain": [
       "{'Jessie Diggins': {'Area of expertise': 'Nordic/Cross Country Skiing',\n",
       "  'Bio': 'Jessie Diggins is a olymipc athlete from Minniesota.She has multiple medals inlcuding the only US gold medal in the sport.',\n",
       "  'Website': 'https://jessiediggins.com/'}}"
      ]
     },
     "execution_count": 71,
     "metadata": {},
     "output_type": "execute_result"
    }
   ],
   "source": [
    "person1_dict"
   ]
  },
  {
   "cell_type": "code",
   "execution_count": 72,
   "id": "2d018b5f",
   "metadata": {},
   "outputs": [
    {
     "data": {
      "text/html": [
       "<div>\n",
       "<style scoped>\n",
       "    .dataframe tbody tr th:only-of-type {\n",
       "        vertical-align: middle;\n",
       "    }\n",
       "\n",
       "    .dataframe tbody tr th {\n",
       "        vertical-align: top;\n",
       "    }\n",
       "\n",
       "    .dataframe thead th {\n",
       "        text-align: right;\n",
       "    }\n",
       "</style>\n",
       "<table border=\"1\" class=\"dataframe\">\n",
       "  <thead>\n",
       "    <tr style=\"text-align: right;\">\n",
       "      <th></th>\n",
       "      <th>Area of expertise</th>\n",
       "      <th>Bio</th>\n",
       "      <th>Website</th>\n",
       "    </tr>\n",
       "  </thead>\n",
       "  <tbody>\n",
       "    <tr>\n",
       "      <th>Jessie Diggins</th>\n",
       "      <td>Nordic/Cross Country Skiing</td>\n",
       "      <td>Jessie Diggins is a olymipc athlete from Minni...</td>\n",
       "      <td>https://jessiediggins.com/</td>\n",
       "    </tr>\n",
       "  </tbody>\n",
       "</table>\n",
       "</div>"
      ],
      "text/plain": [
       "                          Area of expertise  \\\n",
       "Jessie Diggins  Nordic/Cross Country Skiing   \n",
       "\n",
       "                                                              Bio  \\\n",
       "Jessie Diggins  Jessie Diggins is a olymipc athlete from Minni...   \n",
       "\n",
       "                                   Website  \n",
       "Jessie Diggins  https://jessiediggins.com/  "
      ]
     },
     "execution_count": 72,
     "metadata": {},
     "output_type": "execute_result"
    }
   ],
   "source": [
    "\n",
    "pd.DataFrame(person1_dict).T"
   ]
  },
  {
   "cell_type": "code",
   "execution_count": 66,
   "id": "bd43c89c",
   "metadata": {},
   "outputs": [
    {
     "data": {
      "text/plain": [
       "{'Nikola Tesla': {'Area of expertise': \"electricty and it's uses\",\n",
       "  'Bio': 'Nikola Tesla is the sicentest that pionieerd the use and development of electricty.',\n",
       "  'Website': 'https://en.wikipedia.org/wiki/Nikola_Tesla'}}"
      ]
     },
     "execution_count": 66,
     "metadata": {},
     "output_type": "execute_result"
    }
   ],
   "source": [
    "person2_dict={\"Nikola Tesla\":\n",
    "             {\"Area of expertise\":\"electricty and it's uses\",\n",
    "             \"Bio\":\"Nikola Tesla is the sicentest that pionieerd the use and development of electricty.\",\n",
    "             \"Website\":\"https://en.wikipedia.org/wiki/Nikola_Tesla\"}}\n",
    "person2_dict"
   ]
  },
  {
   "cell_type": "code",
   "execution_count": 67,
   "id": "afd21e8a",
   "metadata": {},
   "outputs": [
    {
     "data": {
      "text/html": [
       "<div>\n",
       "<style scoped>\n",
       "    .dataframe tbody tr th:only-of-type {\n",
       "        vertical-align: middle;\n",
       "    }\n",
       "\n",
       "    .dataframe tbody tr th {\n",
       "        vertical-align: top;\n",
       "    }\n",
       "\n",
       "    .dataframe thead th {\n",
       "        text-align: right;\n",
       "    }\n",
       "</style>\n",
       "<table border=\"1\" class=\"dataframe\">\n",
       "  <thead>\n",
       "    <tr style=\"text-align: right;\">\n",
       "      <th></th>\n",
       "      <th>Area of expertise</th>\n",
       "      <th>Bio</th>\n",
       "      <th>Website</th>\n",
       "    </tr>\n",
       "  </thead>\n",
       "  <tbody>\n",
       "    <tr>\n",
       "      <th>Nikola Tesla</th>\n",
       "      <td>electricty and it's uses</td>\n",
       "      <td>Nikola Tesla is the sicentest that pionieerd t...</td>\n",
       "      <td>https://en.wikipedia.org/wiki/Nikola_Tesla</td>\n",
       "    </tr>\n",
       "  </tbody>\n",
       "</table>\n",
       "</div>"
      ],
      "text/plain": [
       "                     Area of expertise  \\\n",
       "Nikola Tesla  electricty and it's uses   \n",
       "\n",
       "                                                            Bio  \\\n",
       "Nikola Tesla  Nikola Tesla is the sicentest that pionieerd t...   \n",
       "\n",
       "                                                 Website  \n",
       "Nikola Tesla  https://en.wikipedia.org/wiki/Nikola_Tesla  "
      ]
     },
     "execution_count": 67,
     "metadata": {},
     "output_type": "execute_result"
    }
   ],
   "source": [
    "pd.DataFrame(person2_dict).T"
   ]
  },
  {
   "cell_type": "code",
   "execution_count": 68,
   "id": "30fc3c9d",
   "metadata": {},
   "outputs": [
    {
     "data": {
      "text/html": [
       "<div>\n",
       "<style scoped>\n",
       "    .dataframe tbody tr th:only-of-type {\n",
       "        vertical-align: middle;\n",
       "    }\n",
       "\n",
       "    .dataframe tbody tr th {\n",
       "        vertical-align: top;\n",
       "    }\n",
       "\n",
       "    .dataframe thead th {\n",
       "        text-align: right;\n",
       "    }\n",
       "</style>\n",
       "<table border=\"1\" class=\"dataframe\">\n",
       "  <thead>\n",
       "    <tr style=\"text-align: right;\">\n",
       "      <th></th>\n",
       "      <th>Area of expertise</th>\n",
       "      <th>Bio</th>\n",
       "      <th>Website</th>\n",
       "    </tr>\n",
       "  </thead>\n",
       "  <tbody>\n",
       "    <tr>\n",
       "      <th>Ferruccio Lamborghini</th>\n",
       "      <td>Engines and motors</td>\n",
       "      <td>Ferruccio Lamborghini was a business man that ...</td>\n",
       "      <td>https://en.wikipedia.org/wiki/Ferruccio_Lambor...</td>\n",
       "    </tr>\n",
       "  </tbody>\n",
       "</table>\n",
       "</div>"
      ],
      "text/plain": [
       "                        Area of expertise  \\\n",
       "Ferruccio Lamborghini  Engines and motors   \n",
       "\n",
       "                                                                     Bio  \\\n",
       "Ferruccio Lamborghini  Ferruccio Lamborghini was a business man that ...   \n",
       "\n",
       "                                                                 Website  \n",
       "Ferruccio Lamborghini  https://en.wikipedia.org/wiki/Ferruccio_Lambor...  "
      ]
     },
     "execution_count": 68,
     "metadata": {},
     "output_type": "execute_result"
    }
   ],
   "source": [
    "person3_dict={\"Ferruccio Lamborghini\":\n",
    "             {\"Area of expertise\":\"Engines and motors\",\n",
    "             \"Bio\":\"Ferruccio Lamborghini was a business man that founded and created the Lamborghini cars and brand.\",\n",
    "             \"Website\":\"https://en.wikipedia.org/wiki/Ferruccio_Lamborghini\"}}\n",
    "pd.DataFrame(person3_dict).T"
   ]
  },
  {
   "cell_type": "code",
   "execution_count": 69,
   "id": "b69d7256",
   "metadata": {},
   "outputs": [
    {
     "data": {
      "text/html": [
       "<div>\n",
       "<style scoped>\n",
       "    .dataframe tbody tr th:only-of-type {\n",
       "        vertical-align: middle;\n",
       "    }\n",
       "\n",
       "    .dataframe tbody tr th {\n",
       "        vertical-align: top;\n",
       "    }\n",
       "\n",
       "    .dataframe thead th {\n",
       "        text-align: right;\n",
       "    }\n",
       "</style>\n",
       "<table border=\"1\" class=\"dataframe\">\n",
       "  <thead>\n",
       "    <tr style=\"text-align: right;\">\n",
       "      <th></th>\n",
       "      <th>Area of expertise</th>\n",
       "      <th>Bio</th>\n",
       "      <th>Website</th>\n",
       "    </tr>\n",
       "  </thead>\n",
       "  <tbody>\n",
       "    <tr>\n",
       "      <th>Karl Marx</th>\n",
       "      <td>Economics</td>\n",
       "      <td>Karl Marx is was a German philosopher that mad...</td>\n",
       "      <td>https://en.wikipedia.org/wiki/Karl_Marx</td>\n",
       "    </tr>\n",
       "  </tbody>\n",
       "</table>\n",
       "</div>"
      ],
      "text/plain": [
       "          Area of expertise  \\\n",
       "Karl Marx         Economics   \n",
       "\n",
       "                                                         Bio  \\\n",
       "Karl Marx  Karl Marx is was a German philosopher that mad...   \n",
       "\n",
       "                                           Website  \n",
       "Karl Marx  https://en.wikipedia.org/wiki/Karl_Marx  "
      ]
     },
     "execution_count": 69,
     "metadata": {},
     "output_type": "execute_result"
    }
   ],
   "source": [
    "person4_dict={\"Karl Marx\":\n",
    "             {\"Area of expertise\":\"Economics\",\n",
    "             \"Bio\":\"Karl Marx is was a German philosopher that made big discoverys in the field of economics.\",\n",
    "             \"Website\":\"https://en.wikipedia.org/wiki/Karl_Marx\"}}\n",
    "pd.DataFrame(person4_dict).T"
   ]
  },
  {
   "cell_type": "code",
   "execution_count": 73,
   "id": "c4460ed6",
   "metadata": {},
   "outputs": [
    {
     "data": {
      "text/html": [
       "<div>\n",
       "<style scoped>\n",
       "    .dataframe tbody tr th:only-of-type {\n",
       "        vertical-align: middle;\n",
       "    }\n",
       "\n",
       "    .dataframe tbody tr th {\n",
       "        vertical-align: top;\n",
       "    }\n",
       "\n",
       "    .dataframe thead th {\n",
       "        text-align: right;\n",
       "    }\n",
       "</style>\n",
       "<table border=\"1\" class=\"dataframe\">\n",
       "  <thead>\n",
       "    <tr style=\"text-align: right;\">\n",
       "      <th></th>\n",
       "      <th>Area of expertise</th>\n",
       "      <th>Bio</th>\n",
       "      <th>Website</th>\n",
       "    </tr>\n",
       "  </thead>\n",
       "  <tbody>\n",
       "    <tr>\n",
       "      <th>John DeLorean</th>\n",
       "      <td>Car design</td>\n",
       "      <td>John DeLorean was an american engineer that he...</td>\n",
       "      <td>https://en.wikipedia.org/wiki/John_DeLorean.</td>\n",
       "    </tr>\n",
       "  </tbody>\n",
       "</table>\n",
       "</div>"
      ],
      "text/plain": [
       "              Area of expertise  \\\n",
       "John DeLorean        Car design   \n",
       "\n",
       "                                                             Bio  \\\n",
       "John DeLorean  John DeLorean was an american engineer that he...   \n",
       "\n",
       "                                                    Website  \n",
       "John DeLorean  https://en.wikipedia.org/wiki/John_DeLorean.  "
      ]
     },
     "execution_count": 73,
     "metadata": {},
     "output_type": "execute_result"
    }
   ],
   "source": [
    "person5_dict={\"John DeLorean\":\n",
    "             {\"Area of expertise\":\"Car design\",\n",
    "             \"Bio\":\"John DeLorean was an american engineer that help to desgin some of the most know cars including the DeLorean.\",\\\n",
    "             \"Website\":\"https://en.wikipedia.org/wiki/John_DeLorean.\"}}\n",
    "pd.DataFrame(person5_dict).T"
   ]
  },
  {
   "cell_type": "code",
   "execution_count": 74,
   "id": "d4d85ec8",
   "metadata": {},
   "outputs": [
    {
     "data": {
      "text/html": [
       "<div>\n",
       "<style scoped>\n",
       "    .dataframe tbody tr th:only-of-type {\n",
       "        vertical-align: middle;\n",
       "    }\n",
       "\n",
       "    .dataframe tbody tr th {\n",
       "        vertical-align: top;\n",
       "    }\n",
       "\n",
       "    .dataframe thead th {\n",
       "        text-align: right;\n",
       "    }\n",
       "</style>\n",
       "<table border=\"1\" class=\"dataframe\">\n",
       "  <thead>\n",
       "    <tr style=\"text-align: right;\">\n",
       "      <th></th>\n",
       "      <th>Area of expertise</th>\n",
       "      <th>Bio</th>\n",
       "      <th>Website</th>\n",
       "    </tr>\n",
       "  </thead>\n",
       "  <tbody>\n",
       "    <tr>\n",
       "      <th>Michael Collins</th>\n",
       "      <td>Space piolt</td>\n",
       "      <td>Michael Collins was an astronaut and the assis...</td>\n",
       "      <td>https://en.wikipedia.org/wiki/Michael_Collins_...</td>\n",
       "    </tr>\n",
       "  </tbody>\n",
       "</table>\n",
       "</div>"
      ],
      "text/plain": [
       "                Area of expertise  \\\n",
       "Michael Collins       Space piolt   \n",
       "\n",
       "                                                               Bio  \\\n",
       "Michael Collins  Michael Collins was an astronaut and the assis...   \n",
       "\n",
       "                                                           Website  \n",
       "Michael Collins  https://en.wikipedia.org/wiki/Michael_Collins_...  "
      ]
     },
     "execution_count": 74,
     "metadata": {},
     "output_type": "execute_result"
    }
   ],
   "source": [
    "person6_dict={\"Michael Collins\":\n",
    "             {\"Area of expertise\":\"Space piolt\",\n",
    "             \"Bio\":\"Michael Collins was an astronaut and the assistant to the secretary of state\",\n",
    "             \"Website\":\"https://en.wikipedia.org/wiki/Michael_Collins_(astronaut)\"}}\n",
    "pd.DataFrame(person6_dict).T"
   ]
  },
  {
   "cell_type": "code",
   "execution_count": 75,
   "id": "933626fb",
   "metadata": {},
   "outputs": [
    {
     "data": {
      "text/html": [
       "<div>\n",
       "<style scoped>\n",
       "    .dataframe tbody tr th:only-of-type {\n",
       "        vertical-align: middle;\n",
       "    }\n",
       "\n",
       "    .dataframe tbody tr th {\n",
       "        vertical-align: top;\n",
       "    }\n",
       "\n",
       "    .dataframe thead th {\n",
       "        text-align: right;\n",
       "    }\n",
       "</style>\n",
       "<table border=\"1\" class=\"dataframe\">\n",
       "  <thead>\n",
       "    <tr style=\"text-align: right;\">\n",
       "      <th></th>\n",
       "      <th>Area of expertise</th>\n",
       "      <th>Bio</th>\n",
       "      <th>Website</th>\n",
       "    </tr>\n",
       "  </thead>\n",
       "  <tbody>\n",
       "    <tr>\n",
       "      <th>William E. Boeing</th>\n",
       "      <td>Aircraft</td>\n",
       "      <td>William Boeing was a businessman that fonduned...</td>\n",
       "      <td>https://en.wikipedia.org/wiki/William_E._Boeing</td>\n",
       "    </tr>\n",
       "  </tbody>\n",
       "</table>\n",
       "</div>"
      ],
      "text/plain": [
       "                  Area of expertise  \\\n",
       "William E. Boeing          Aircraft   \n",
       "\n",
       "                                                                 Bio  \\\n",
       "William E. Boeing  William Boeing was a businessman that fonduned...   \n",
       "\n",
       "                                                           Website  \n",
       "William E. Boeing  https://en.wikipedia.org/wiki/William_E._Boeing  "
      ]
     },
     "execution_count": 75,
     "metadata": {},
     "output_type": "execute_result"
    }
   ],
   "source": [
    "person7_dict={\"William E. Boeing\":\n",
    "             {\"Area of expertise\":\"Aircraft\",\n",
    "             \"Bio\":\"William Boeing was a businessman that fonduned and help desgin the Boeing aircraft and brand.\",\n",
    "             \"Website\":\"https://en.wikipedia.org/wiki/William_E._Boeing\"}}\n",
    "pd.DataFrame(person7_dict).T"
   ]
  },
  {
   "cell_type": "code",
   "execution_count": 77,
   "id": "70161405",
   "metadata": {},
   "outputs": [
    {
     "data": {
      "text/html": [
       "<div>\n",
       "<style scoped>\n",
       "    .dataframe tbody tr th:only-of-type {\n",
       "        vertical-align: middle;\n",
       "    }\n",
       "\n",
       "    .dataframe tbody tr th {\n",
       "        vertical-align: top;\n",
       "    }\n",
       "\n",
       "    .dataframe thead th {\n",
       "        text-align: right;\n",
       "    }\n",
       "</style>\n",
       "<table border=\"1\" class=\"dataframe\">\n",
       "  <thead>\n",
       "    <tr style=\"text-align: right;\">\n",
       "      <th></th>\n",
       "      <th>Area of expertise</th>\n",
       "      <th>Bio</th>\n",
       "      <th>Website</th>\n",
       "    </tr>\n",
       "  </thead>\n",
       "  <tbody>\n",
       "    <tr>\n",
       "      <th>Warren Buffett</th>\n",
       "      <td>Finance</td>\n",
       "      <td>Warren Buffett is a businessman that is regaur...</td>\n",
       "      <td>https://www.berkshirehathaway.com/</td>\n",
       "    </tr>\n",
       "  </tbody>\n",
       "</table>\n",
       "</div>"
      ],
      "text/plain": [
       "               Area of expertise  \\\n",
       "Warren Buffett           Finance   \n",
       "\n",
       "                                                              Bio  \\\n",
       "Warren Buffett  Warren Buffett is a businessman that is regaur...   \n",
       "\n",
       "                                           Website  \n",
       "Warren Buffett  https://www.berkshirehathaway.com/  "
      ]
     },
     "execution_count": 77,
     "metadata": {},
     "output_type": "execute_result"
    }
   ],
   "source": [
    "person8_dict={\"Warren Buffett\":\n",
    "             {\"Area of expertise\":\"Finance\",\n",
    "             \"Bio\":\"Warren Buffett is a businessman that is regaurded as one of the top people in Finance\",\n",
    "             \"Website\":\"https://www.berkshirehathaway.com/\"}}\n",
    "pd.DataFrame(person8_dict).T"
   ]
  },
  {
   "cell_type": "code",
   "execution_count": 78,
   "id": "f6f4119e",
   "metadata": {},
   "outputs": [
    {
     "data": {
      "text/html": [
       "<div>\n",
       "<style scoped>\n",
       "    .dataframe tbody tr th:only-of-type {\n",
       "        vertical-align: middle;\n",
       "    }\n",
       "\n",
       "    .dataframe tbody tr th {\n",
       "        vertical-align: top;\n",
       "    }\n",
       "\n",
       "    .dataframe thead th {\n",
       "        text-align: right;\n",
       "    }\n",
       "</style>\n",
       "<table border=\"1\" class=\"dataframe\">\n",
       "  <thead>\n",
       "    <tr style=\"text-align: right;\">\n",
       "      <th></th>\n",
       "      <th>Area of expertise</th>\n",
       "      <th>Bio</th>\n",
       "      <th>Website</th>\n",
       "    </tr>\n",
       "  </thead>\n",
       "  <tbody>\n",
       "    <tr>\n",
       "      <th>Joseph Stiglitz</th>\n",
       "      <td>Economics</td>\n",
       "      <td>Joseph Stiglitz is an economist who has won th...</td>\n",
       "      <td>https://www8.gsb.columbia.edu/faculty/jstiglitz/</td>\n",
       "    </tr>\n",
       "  </tbody>\n",
       "</table>\n",
       "</div>"
      ],
      "text/plain": [
       "                Area of expertise  \\\n",
       "Joseph Stiglitz         Economics   \n",
       "\n",
       "                                                               Bio  \\\n",
       "Joseph Stiglitz  Joseph Stiglitz is an economist who has won th...   \n",
       "\n",
       "                                                          Website  \n",
       "Joseph Stiglitz  https://www8.gsb.columbia.edu/faculty/jstiglitz/  "
      ]
     },
     "execution_count": 78,
     "metadata": {},
     "output_type": "execute_result"
    }
   ],
   "source": [
    "person9_dict={\"Joseph Stiglitz\":\n",
    "             {\"Area of expertise\":\"Economics\",\n",
    "             \"Bio\":\"Joseph Stiglitz is an economist who has won the nobel prize and the john bates clark medal.\",\n",
    "             \"Website\":\"https://www8.gsb.columbia.edu/faculty/jstiglitz/\"}}\n",
    "pd.DataFrame(person9_dict).T"
   ]
  },
  {
   "cell_type": "code",
   "execution_count": 82,
   "id": "387a9978",
   "metadata": {},
   "outputs": [
    {
     "data": {
      "text/html": [
       "<div>\n",
       "<style scoped>\n",
       "    .dataframe tbody tr th:only-of-type {\n",
       "        vertical-align: middle;\n",
       "    }\n",
       "\n",
       "    .dataframe tbody tr th {\n",
       "        vertical-align: top;\n",
       "    }\n",
       "\n",
       "    .dataframe thead th {\n",
       "        text-align: right;\n",
       "    }\n",
       "</style>\n",
       "<table border=\"1\" class=\"dataframe\">\n",
       "  <thead>\n",
       "    <tr style=\"text-align: right;\">\n",
       "      <th></th>\n",
       "      <th>Area of expertise</th>\n",
       "      <th>Bio</th>\n",
       "      <th>Website</th>\n",
       "    </tr>\n",
       "  </thead>\n",
       "  <tbody>\n",
       "    <tr>\n",
       "      <th>Barack Obama</th>\n",
       "      <td>Poltics</td>\n",
       "      <td>Brack Obama was the 44th president of the US.</td>\n",
       "      <td>https://barackobama.com/</td>\n",
       "    </tr>\n",
       "  </tbody>\n",
       "</table>\n",
       "</div>"
      ],
      "text/plain": [
       "             Area of expertise                                            Bio  \\\n",
       "Barack Obama           Poltics  Brack Obama was the 44th president of the US.   \n",
       "\n",
       "                               Website  \n",
       "Barack Obama  https://barackobama.com/  "
      ]
     },
     "execution_count": 82,
     "metadata": {},
     "output_type": "execute_result"
    }
   ],
   "source": [
    "person10_dict={\"Barack Obama\":\n",
    "              {\"Area of expertise\":\"Poltics\",\n",
    "              \"Bio\":\"Brack Obama was the 44th president of the US.\",\n",
    "              \"Website\":\"https://barackobama.com/\"}}\n",
    "pd.DataFrame(person10_dict).T"
   ]
  },
  {
   "cell_type": "code",
   "execution_count": 85,
   "id": "4d20e0f7",
   "metadata": {},
   "outputs": [
    {
     "data": {
      "text/html": [
       "<div>\n",
       "<style scoped>\n",
       "    .dataframe tbody tr th:only-of-type {\n",
       "        vertical-align: middle;\n",
       "    }\n",
       "\n",
       "    .dataframe tbody tr th {\n",
       "        vertical-align: top;\n",
       "    }\n",
       "\n",
       "    .dataframe thead th {\n",
       "        text-align: right;\n",
       "    }\n",
       "</style>\n",
       "<table border=\"1\" class=\"dataframe\">\n",
       "  <thead>\n",
       "    <tr style=\"text-align: right;\">\n",
       "      <th></th>\n",
       "      <th>Area of expertise</th>\n",
       "      <th>Bio</th>\n",
       "      <th>Website</th>\n",
       "    </tr>\n",
       "  </thead>\n",
       "  <tbody>\n",
       "    <tr>\n",
       "      <th>Jessie Diggins</th>\n",
       "      <td>Nordic/Cross Country Skiing</td>\n",
       "      <td>Jessie Diggins is a olymipc athlete from Minni...</td>\n",
       "      <td>https://jessiediggins.com/</td>\n",
       "    </tr>\n",
       "    <tr>\n",
       "      <th>Nikola Tesla</th>\n",
       "      <td>electricty and it's uses</td>\n",
       "      <td>Nikola Tesla is the sicentest that pionieerd t...</td>\n",
       "      <td>https://en.wikipedia.org/wiki/Nikola_Tesla</td>\n",
       "    </tr>\n",
       "    <tr>\n",
       "      <th>Ferruccio Lamborghini</th>\n",
       "      <td>Engines and motors</td>\n",
       "      <td>Ferruccio Lamborghini was a business man that ...</td>\n",
       "      <td>https://en.wikipedia.org/wiki/Ferruccio_Lambor...</td>\n",
       "    </tr>\n",
       "    <tr>\n",
       "      <th>Karl Marx</th>\n",
       "      <td>Economics</td>\n",
       "      <td>Karl Marx is was a German philosopher that mad...</td>\n",
       "      <td>https://en.wikipedia.org/wiki/Karl_Marx</td>\n",
       "    </tr>\n",
       "    <tr>\n",
       "      <th>John DeLorean</th>\n",
       "      <td>Car design</td>\n",
       "      <td>John DeLorean was an american engineer that he...</td>\n",
       "      <td>https://en.wikipedia.org/wiki/John_DeLorean.</td>\n",
       "    </tr>\n",
       "    <tr>\n",
       "      <th>Michael Collins</th>\n",
       "      <td>Space piolt</td>\n",
       "      <td>Michael Collins was an astronaut and the assis...</td>\n",
       "      <td>https://en.wikipedia.org/wiki/Michael_Collins_...</td>\n",
       "    </tr>\n",
       "    <tr>\n",
       "      <th>William E. Boeing</th>\n",
       "      <td>Aircraft</td>\n",
       "      <td>William Boeing was a businessman that fonduned...</td>\n",
       "      <td>https://en.wikipedia.org/wiki/William_E._Boeing</td>\n",
       "    </tr>\n",
       "    <tr>\n",
       "      <th>Warren Buffett</th>\n",
       "      <td>Finance</td>\n",
       "      <td>Warren Buffett is a businessman that is regaur...</td>\n",
       "      <td>https://www.berkshirehathaway.com/</td>\n",
       "    </tr>\n",
       "    <tr>\n",
       "      <th>Joseph Stiglitz</th>\n",
       "      <td>Economics</td>\n",
       "      <td>Joseph Stiglitz is an economist who has won th...</td>\n",
       "      <td>https://www8.gsb.columbia.edu/faculty/jstiglitz/</td>\n",
       "    </tr>\n",
       "    <tr>\n",
       "      <th>Barack Obama</th>\n",
       "      <td>Poltics</td>\n",
       "      <td>Brack Obama was the 44th president of the US.</td>\n",
       "      <td>https://barackobama.com/</td>\n",
       "    </tr>\n",
       "  </tbody>\n",
       "</table>\n",
       "</div>"
      ],
      "text/plain": [
       "                                 Area of expertise  \\\n",
       "Jessie Diggins         Nordic/Cross Country Skiing   \n",
       "Nikola Tesla              electricty and it's uses   \n",
       "Ferruccio Lamborghini           Engines and motors   \n",
       "Karl Marx                                Economics   \n",
       "John DeLorean                           Car design   \n",
       "Michael Collins                        Space piolt   \n",
       "William E. Boeing                         Aircraft   \n",
       "Warren Buffett                             Finance   \n",
       "Joseph Stiglitz                          Economics   \n",
       "Barack Obama                               Poltics   \n",
       "\n",
       "                                                                     Bio  \\\n",
       "Jessie Diggins         Jessie Diggins is a olymipc athlete from Minni...   \n",
       "Nikola Tesla           Nikola Tesla is the sicentest that pionieerd t...   \n",
       "Ferruccio Lamborghini  Ferruccio Lamborghini was a business man that ...   \n",
       "Karl Marx              Karl Marx is was a German philosopher that mad...   \n",
       "John DeLorean          John DeLorean was an american engineer that he...   \n",
       "Michael Collins        Michael Collins was an astronaut and the assis...   \n",
       "William E. Boeing      William Boeing was a businessman that fonduned...   \n",
       "Warren Buffett         Warren Buffett is a businessman that is regaur...   \n",
       "Joseph Stiglitz        Joseph Stiglitz is an economist who has won th...   \n",
       "Barack Obama               Brack Obama was the 44th president of the US.   \n",
       "\n",
       "                                                                 Website  \n",
       "Jessie Diggins                                https://jessiediggins.com/  \n",
       "Nikola Tesla                  https://en.wikipedia.org/wiki/Nikola_Tesla  \n",
       "Ferruccio Lamborghini  https://en.wikipedia.org/wiki/Ferruccio_Lambor...  \n",
       "Karl Marx                        https://en.wikipedia.org/wiki/Karl_Marx  \n",
       "John DeLorean               https://en.wikipedia.org/wiki/John_DeLorean.  \n",
       "Michael Collins        https://en.wikipedia.org/wiki/Michael_Collins_...  \n",
       "William E. Boeing        https://en.wikipedia.org/wiki/William_E._Boeing  \n",
       "Warren Buffett                        https://www.berkshirehathaway.com/  \n",
       "Joseph Stiglitz         https://www8.gsb.columbia.edu/faculty/jstiglitz/  \n",
       "Barack Obama                                    https://barackobama.com/  "
      ]
     },
     "execution_count": 85,
     "metadata": {},
     "output_type": "execute_result"
    }
   ],
   "source": [
    "person_dict={\"Jessie Diggins\":\n",
    "               {\"Area of expertise\":\"Nordic/Cross Country Skiing\",\n",
    "               \"Bio\":\"Jessie Diggins is a olymipc athlete from Minniesota.She has multiple medals inlcuding the only US gold medal in the sport.\",\n",
    "               \"Website\":\"https://jessiediggins.com/\"},\n",
    "            \"Nikola Tesla\":\n",
    "             {\"Area of expertise\":\"electricty and it's uses\",\n",
    "             \"Bio\":\"Nikola Tesla is the sicentest that pionieerd the use and development of electricty.\",\n",
    "             \"Website\":\"https://en.wikipedia.org/wiki/Nikola_Tesla\"},\n",
    "            \"Ferruccio Lamborghini\":\n",
    "             {\"Area of expertise\":\"Engines and motors\",\n",
    "             \"Bio\":\"Ferruccio Lamborghini was a business man that founded and created the Lamborghini cars and brand.\",\n",
    "             \"Website\":\"https://en.wikipedia.org/wiki/Ferruccio_Lamborghini\"},\n",
    "            \"Karl Marx\":\n",
    "             {\"Area of expertise\":\"Economics\",\n",
    "             \"Bio\":\"Karl Marx is was a German philosopher that made big discoverys in the field of economics.\",\n",
    "             \"Website\":\"https://en.wikipedia.org/wiki/Karl_Marx\"},\n",
    "            \"John DeLorean\":\n",
    "             {\"Area of expertise\":\"Car design\",\n",
    "             \"Bio\":\"John DeLorean was an american engineer that help to desgin some of the most know cars including the DeLorean.\",\\\n",
    "             \"Website\":\"https://en.wikipedia.org/wiki/John_DeLorean.\"},\n",
    "            \"Michael Collins\":\n",
    "             {\"Area of expertise\":\"Space piolt\",\n",
    "             \"Bio\":\"Michael Collins was an astronaut and the assistant to the secretary of state\",\n",
    "             \"Website\":\"https://en.wikipedia.org/wiki/Michael_Collins_(astronaut)\"},\n",
    "            \"William E. Boeing\":\n",
    "             {\"Area of expertise\":\"Aircraft\",\n",
    "             \"Bio\":\"William Boeing was a businessman that fonduned and help desgin the Boeing aircraft and brand.\",\n",
    "             \"Website\":\"https://en.wikipedia.org/wiki/William_E._Boeing\"},\n",
    "            \"Warren Buffett\":\n",
    "             {\"Area of expertise\":\"Finance\",\n",
    "             \"Bio\":\"Warren Buffett is a businessman that is regaurded as one of the top people in Finance\",\n",
    "             \"Website\":\"https://www.berkshirehathaway.com/\"},\n",
    "            \"Joseph Stiglitz\":\n",
    "             {\"Area of expertise\":\"Economics\",\n",
    "             \"Bio\":\"Joseph Stiglitz is an economist who has won the nobel prize and the john bates clark medal.\",\n",
    "             \"Website\":\"https://www8.gsb.columbia.edu/faculty/jstiglitz/\"},\n",
    "            \"Barack Obama\":\n",
    "              {\"Area of expertise\":\"Poltics\",\n",
    "              \"Bio\":\"Brack Obama was the 44th president of the US.\",\n",
    "              \"Website\":\"https://barackobama.com/\"}} \n",
    "pd.DataFrame(person_dict).T"
   ]
  },
  {
   "cell_type": "code",
   "execution_count": 88,
   "id": "1899d10c",
   "metadata": {},
   "outputs": [
    {
     "data": {
      "text/html": [
       "<div>\n",
       "<style scoped>\n",
       "    .dataframe tbody tr th:only-of-type {\n",
       "        vertical-align: middle;\n",
       "    }\n",
       "\n",
       "    .dataframe tbody tr th {\n",
       "        vertical-align: top;\n",
       "    }\n",
       "\n",
       "    .dataframe thead th {\n",
       "        text-align: right;\n",
       "    }\n",
       "</style>\n",
       "<table border=\"1\" class=\"dataframe\">\n",
       "  <thead>\n",
       "    <tr style=\"text-align: right;\">\n",
       "      <th></th>\n",
       "      <th>Area of expertise</th>\n",
       "      <th>Bio</th>\n",
       "      <th>Website</th>\n",
       "    </tr>\n",
       "  </thead>\n",
       "  <tbody>\n",
       "    <tr>\n",
       "      <th>Jessie Diggins</th>\n",
       "      <td>Nordic/Cross Country Skiing</td>\n",
       "      <td>Jessie Diggins is a olymipc athlete from Minni...</td>\n",
       "      <td>https://jessiediggins.com/</td>\n",
       "    </tr>\n",
       "    <tr>\n",
       "      <th>Nikola Tesla</th>\n",
       "      <td>electricty and it's uses</td>\n",
       "      <td>Nikola Tesla is the sicentest that pionieerd t...</td>\n",
       "      <td>https://en.wikipedia.org/wiki/Nikola_Tesla</td>\n",
       "    </tr>\n",
       "    <tr>\n",
       "      <th>Ferruccio Lamborghini</th>\n",
       "      <td>Engines and motors</td>\n",
       "      <td>Ferruccio Lamborghini was a business man that ...</td>\n",
       "      <td>https://en.wikipedia.org/wiki/Ferruccio_Lambor...</td>\n",
       "    </tr>\n",
       "    <tr>\n",
       "      <th>Karl Marx</th>\n",
       "      <td>Economics</td>\n",
       "      <td>Karl Marx is was a German philosopher that mad...</td>\n",
       "      <td>https://en.wikipedia.org/wiki/Karl_Marx</td>\n",
       "    </tr>\n",
       "    <tr>\n",
       "      <th>John DeLorean</th>\n",
       "      <td>Car design</td>\n",
       "      <td>John DeLorean was an american engineer that he...</td>\n",
       "      <td>https://en.wikipedia.org/wiki/John_DeLorean.</td>\n",
       "    </tr>\n",
       "    <tr>\n",
       "      <th>Michael Collins</th>\n",
       "      <td>Space piolt</td>\n",
       "      <td>Michael Collins was an astronaut and the assis...</td>\n",
       "      <td>https://en.wikipedia.org/wiki/Michael_Collins_...</td>\n",
       "    </tr>\n",
       "    <tr>\n",
       "      <th>William E. Boeing</th>\n",
       "      <td>Aircraft</td>\n",
       "      <td>William Boeing was a businessman that fonduned...</td>\n",
       "      <td>https://en.wikipedia.org/wiki/William_E._Boeing</td>\n",
       "    </tr>\n",
       "    <tr>\n",
       "      <th>Warren Buffett</th>\n",
       "      <td>Finance</td>\n",
       "      <td>Warren Buffett is a businessman that is regaur...</td>\n",
       "      <td>https://www.berkshirehathaway.com/</td>\n",
       "    </tr>\n",
       "    <tr>\n",
       "      <th>Joseph Stiglitz</th>\n",
       "      <td>Economics</td>\n",
       "      <td>Joseph Stiglitz is an economist who has won th...</td>\n",
       "      <td>https://www8.gsb.columbia.edu/faculty/jstiglitz/</td>\n",
       "    </tr>\n",
       "    <tr>\n",
       "      <th>Barack Obama</th>\n",
       "      <td>Poltics</td>\n",
       "      <td>Brack Obama was the 44th president of the US.</td>\n",
       "      <td>https://barackobama.com/</td>\n",
       "    </tr>\n",
       "  </tbody>\n",
       "</table>\n",
       "</div>"
      ],
      "text/plain": [
       "                                 Area of expertise  \\\n",
       "Jessie Diggins         Nordic/Cross Country Skiing   \n",
       "Nikola Tesla              electricty and it's uses   \n",
       "Ferruccio Lamborghini           Engines and motors   \n",
       "Karl Marx                                Economics   \n",
       "John DeLorean                           Car design   \n",
       "Michael Collins                        Space piolt   \n",
       "William E. Boeing                         Aircraft   \n",
       "Warren Buffett                             Finance   \n",
       "Joseph Stiglitz                          Economics   \n",
       "Barack Obama                               Poltics   \n",
       "\n",
       "                                                                     Bio  \\\n",
       "Jessie Diggins         Jessie Diggins is a olymipc athlete from Minni...   \n",
       "Nikola Tesla           Nikola Tesla is the sicentest that pionieerd t...   \n",
       "Ferruccio Lamborghini  Ferruccio Lamborghini was a business man that ...   \n",
       "Karl Marx              Karl Marx is was a German philosopher that mad...   \n",
       "John DeLorean          John DeLorean was an american engineer that he...   \n",
       "Michael Collins        Michael Collins was an astronaut and the assis...   \n",
       "William E. Boeing      William Boeing was a businessman that fonduned...   \n",
       "Warren Buffett         Warren Buffett is a businessman that is regaur...   \n",
       "Joseph Stiglitz        Joseph Stiglitz is an economist who has won th...   \n",
       "Barack Obama               Brack Obama was the 44th president of the US.   \n",
       "\n",
       "                                                                 Website  \n",
       "Jessie Diggins                                https://jessiediggins.com/  \n",
       "Nikola Tesla                  https://en.wikipedia.org/wiki/Nikola_Tesla  \n",
       "Ferruccio Lamborghini  https://en.wikipedia.org/wiki/Ferruccio_Lambor...  \n",
       "Karl Marx                        https://en.wikipedia.org/wiki/Karl_Marx  \n",
       "John DeLorean               https://en.wikipedia.org/wiki/John_DeLorean.  \n",
       "Michael Collins        https://en.wikipedia.org/wiki/Michael_Collins_...  \n",
       "William E. Boeing        https://en.wikipedia.org/wiki/William_E._Boeing  \n",
       "Warren Buffett                        https://www.berkshirehathaway.com/  \n",
       "Joseph Stiglitz         https://www8.gsb.columbia.edu/faculty/jstiglitz/  \n",
       "Barack Obama                                    https://barackobama.com/  "
      ]
     },
     "execution_count": 88,
     "metadata": {},
     "output_type": "execute_result"
    }
   ],
   "source": [
    "person_df = pd.DataFrame(person_dict)\n",
    "person_df.T"
   ]
  },
  {
   "cell_type": "code",
   "execution_count": 89,
   "id": "35d0854c",
   "metadata": {},
   "outputs": [],
   "source": [
    "person_df.to_csv(\"10people.csv\")"
   ]
  },
  {
   "cell_type": "code",
   "execution_count": null,
   "id": "01e45e15",
   "metadata": {},
   "outputs": [],
   "source": []
  }
 ],
 "metadata": {
  "kernelspec": {
   "display_name": "Python 3 (ipykernel)",
   "language": "python",
   "name": "python3"
  },
  "language_info": {
   "codemirror_mode": {
    "name": "ipython",
    "version": 3
   },
   "file_extension": ".py",
   "mimetype": "text/x-python",
   "name": "python",
   "nbconvert_exporter": "python",
   "pygments_lexer": "ipython3",
   "version": "3.9.13"
  }
 },
 "nbformat": 4,
 "nbformat_minor": 5
}
