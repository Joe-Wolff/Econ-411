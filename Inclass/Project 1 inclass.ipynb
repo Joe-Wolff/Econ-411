{
 "cells": [
  {
   "cell_type": "markdown",
   "id": "5e9f9481",
   "metadata": {},
   "source": [
    "# Hello World"
   ]
  },
  {
   "cell_type": "code",
   "execution_count": 1,
   "id": "fe7f2e8d",
   "metadata": {},
   "outputs": [
    {
     "name": "stdout",
     "output_type": "stream",
     "text": [
      "Hello world!\n"
     ]
    }
   ],
   "source": [
    "print(\"Hello world!\")"
   ]
  },
  {
   "cell_type": "code",
   "execution_count": 2,
   "id": "7ab3260f",
   "metadata": {},
   "outputs": [
    {
     "data": {
      "text/plain": [
       "str"
      ]
     },
     "execution_count": 2,
     "metadata": {},
     "output_type": "execute_result"
    }
   ],
   "source": [
    "type(\"Hello world!\")"
   ]
  },
  {
   "cell_type": "markdown",
   "id": "6e5f2a29",
   "metadata": {},
   "source": [
    "## save \"Hello world\" as a variable"
   ]
  },
  {
   "cell_type": "code",
   "execution_count": 3,
   "id": "cea201e5",
   "metadata": {},
   "outputs": [
    {
     "name": "stdout",
     "output_type": "stream",
     "text": [
      "Hello world\n"
     ]
    }
   ],
   "source": [
    "msg = \"Hello world\"\n",
    "print(msg)"
   ]
  },
  {
   "cell_type": "code",
   "execution_count": 4,
   "id": "814d3011",
   "metadata": {},
   "outputs": [
    {
     "data": {
      "text/plain": [
       "str"
      ]
     },
     "execution_count": 4,
     "metadata": {},
     "output_type": "execute_result"
    }
   ],
   "source": [
    "type(msg)"
   ]
  },
  {
   "cell_type": "markdown",
   "id": "b2e564a6",
   "metadata": {},
   "source": [
    "#str means string"
   ]
  },
  {
   "cell_type": "code",
   "execution_count": 5,
   "id": "018fb0f7",
   "metadata": {},
   "outputs": [
    {
     "name": "stdout",
     "output_type": "stream",
     "text": [
      "JOE WOLFF\n"
     ]
    },
    {
     "data": {
      "text/plain": [
       "'Joe Wolff'"
      ]
     },
     "execution_count": 5,
     "metadata": {},
     "output_type": "execute_result"
    }
   ],
   "source": [
    "msg = \"joe wolff\"\n",
    "# ALL CAPS\n",
    "msg_upper=msg.upper()\n",
    "print(msg_upper)\n",
    "#Capitalize The First Letter Of Each Word\n",
    "msg_title =msg.title()\n",
    "msg_title"
   ]
  },
  {
   "cell_type": "code",
   "execution_count": 6,
   "id": "76e9e5a5",
   "metadata": {},
   "outputs": [
    {
     "name": "stdout",
     "output_type": "stream",
     "text": [
      "A\n"
     ]
    }
   ],
   "source": [
    "# concatenate= join together, put two strings together\n",
    "print(\"A\")"
   ]
  },
  {
   "cell_type": "code",
   "execution_count": 7,
   "id": "b86cbba3",
   "metadata": {},
   "outputs": [
    {
     "name": "stdout",
     "output_type": "stream",
     "text": [
      "B\n"
     ]
    }
   ],
   "source": [
    "print(\"B\")"
   ]
  },
  {
   "cell_type": "code",
   "execution_count": 8,
   "id": "1215eb04",
   "metadata": {},
   "outputs": [
    {
     "name": "stdout",
     "output_type": "stream",
     "text": [
      "AB\n"
     ]
    }
   ],
   "source": [
    "print(\"A\"+\"B\")"
   ]
  },
  {
   "cell_type": "code",
   "execution_count": 9,
   "id": "afdb3400",
   "metadata": {},
   "outputs": [
    {
     "name": "stdout",
     "output_type": "stream",
     "text": [
      "AB\n"
     ]
    }
   ],
   "source": [
    "a=\"A\"\n",
    "b=\"B\"\n",
    "print(a+b)"
   ]
  },
  {
   "cell_type": "code",
   "execution_count": 10,
   "id": "0796a0e8",
   "metadata": {},
   "outputs": [
    {
     "name": "stdout",
     "output_type": "stream",
     "text": [
      "you thought it would be easyyou thought it wouldn't be strangebut then you started codingthings never were the same\n",
      "You Thought It Would Be EasyYou Thought It Wouldn'T Be StrangeBut Then You Started CodingThings Never Were The Same\n",
      "you thought it would be easy\n",
      "you thought it wouldn't be strange\n",
      "but then you started coding\n",
      "things never were the same\n",
      "You Thought It Would Be Easy\n",
      "You Thought It Wouldn'T Be Strange\n",
      "But Then You Started Coding\n",
      "Things Never Were The Same\n"
     ]
    }
   ],
   "source": [
    "line1= \"you thought it would be easy\"\n",
    "line2=\"you thought it wouldn't be strange\"\n",
    "line3= \"but then you started coding\"\n",
    "line4= \"things never were the same\"\n",
    "print(line1+line2+line3+line4)\n",
    "h= line1.title()\n",
    "j = line2.title()\n",
    "k=line3.title()\n",
    "l=line4.title()\n",
    "print(h+j+k+l)\n",
    "print(line1, line2, line3,line4, sep=\"\\n\")\n",
    "print(h,j ,k,l, sep=\"\\n\")"
   ]
  },
  {
   "cell_type": "markdown",
   "id": "1ec1f544",
   "metadata": {},
   "source": [
    "#create a new line with \"\\n\"\n",
    "# use sep = \"string\" to insert a particular string between each object passed to pring "
   ]
  },
  {
   "cell_type": "markdown",
   "id": "25e3320d",
   "metadata": {},
   "source": [
    "#quotes within quotes "
   ]
  },
  {
   "cell_type": "code",
   "execution_count": 11,
   "id": "69927b64",
   "metadata": {},
   "outputs": [
    {
     "name": "stdout",
     "output_type": "stream",
     "text": [
      "\"\n"
     ]
    }
   ],
   "source": [
    "print(\"\\\"\")"
   ]
  },
  {
   "cell_type": "code",
   "execution_count": 12,
   "id": "1238cf16",
   "metadata": {},
   "outputs": [
    {
     "name": "stdout",
     "output_type": "stream",
     "text": [
      "\"\n"
     ]
    }
   ],
   "source": [
    "print('\"')"
   ]
  },
  {
   "cell_type": "markdown",
   "id": "755a8672",
   "metadata": {},
   "source": [
    "#more string methods"
   ]
  },
  {
   "cell_type": "code",
   "execution_count": 13,
   "id": "7198b804",
   "metadata": {},
   "outputs": [
    {
     "name": "stdout",
     "output_type": "stream",
     "text": [
      "     look at all the spaces in the text!   \n"
     ]
    }
   ],
   "source": [
    "spaces= \"     look at all the spaces in the text!   \"\n",
    "print(spaces)"
   ]
  },
  {
   "cell_type": "code",
   "execution_count": 14,
   "id": "2175c422",
   "metadata": {},
   "outputs": [
    {
     "name": "stdout",
     "output_type": "stream",
     "text": [
      "look at all the spaces in the text!   \n"
     ]
    }
   ],
   "source": [
    "#remove space on far left\n",
    "print(spaces.lstrip())"
   ]
  },
  {
   "cell_type": "code",
   "execution_count": 15,
   "id": "865f792e",
   "metadata": {},
   "outputs": [
    {
     "name": "stdout",
     "output_type": "stream",
     "text": [
      "     look at all the spaces in the text!\n"
     ]
    }
   ],
   "source": [
    "#remove space on far right\n",
    "print(spaces.rstrip())"
   ]
  },
  {
   "cell_type": "code",
   "execution_count": 16,
   "id": "eeefc6e9",
   "metadata": {},
   "outputs": [
    {
     "name": "stdout",
     "output_type": "stream",
     "text": [
      "look at all the spaces in the text!\n"
     ]
    }
   ],
   "source": [
    "#remove spaces on both sides\n",
    "print(spaces.strip())"
   ]
  },
  {
   "cell_type": "code",
   "execution_count": 17,
   "id": "6a339bc3",
   "metadata": {},
   "outputs": [
    {
     "name": "stdout",
     "output_type": "stream",
     "text": [
      "lookatallthespacesinthetext!\n"
     ]
    }
   ],
   "source": [
    "#remove all spaces\n",
    "print(spaces.replace(\" \",\"\"))"
   ]
  },
  {
   "cell_type": "code",
   "execution_count": 18,
   "id": "e5373f40",
   "metadata": {},
   "outputs": [
    {
     "data": {
      "text/plain": [
       "'     look at all the pace in the text!   '"
      ]
     },
     "execution_count": 18,
     "metadata": {},
     "output_type": "execute_result"
    }
   ],
   "source": [
    "spaces.replace(\"s\",\"\")"
   ]
  },
  {
   "cell_type": "markdown",
   "id": "25a4dffc",
   "metadata": {},
   "source": [
    "# Working With Numbers"
   ]
  },
  {
   "cell_type": "code",
   "execution_count": 19,
   "id": "a033f3f1",
   "metadata": {},
   "outputs": [],
   "source": [
    "#two common types are integers and floats"
   ]
  },
  {
   "cell_type": "code",
   "execution_count": 20,
   "id": "db6034ee",
   "metadata": {},
   "outputs": [
    {
     "name": "stdout",
     "output_type": "stream",
     "text": [
      "1 1.0\n"
     ]
    }
   ],
   "source": [
    "print(1, 1.)"
   ]
  },
  {
   "cell_type": "code",
   "execution_count": 21,
   "id": "0a226acc",
   "metadata": {},
   "outputs": [
    {
     "name": "stdout",
     "output_type": "stream",
     "text": [
      "<class 'int'> <class 'float'> <class 'str'>\n",
      "1 1.0 1.\n"
     ]
    }
   ],
   "source": [
    "int1 =1\n",
    "float1 =1.\n",
    "str1=\"1.\"\n",
    "print(type(int1),type(float1),type(str1))\n",
    "print(int1, float1,str1)"
   ]
  },
  {
   "cell_type": "code",
   "execution_count": 22,
   "id": "8a667fab",
   "metadata": {},
   "outputs": [
    {
     "name": "stdout",
     "output_type": "stream",
     "text": [
      "<class 'int'> 2\n"
     ]
    }
   ],
   "source": [
    "int2 = int1 + int1\n",
    "print(type(int2), int2)"
   ]
  },
  {
   "cell_type": "code",
   "execution_count": 23,
   "id": "3b51805d",
   "metadata": {},
   "outputs": [
    {
     "name": "stdout",
     "output_type": "stream",
     "text": [
      "<class 'float'> 2.0\n"
     ]
    }
   ],
   "source": [
    "float2 = int1 + float1\n",
    "print(type(float2),float2)\n",
    "#summing a int and a float nets a float"
   ]
  },
  {
   "cell_type": "code",
   "execution_count": 24,
   "id": "f21f7b65",
   "metadata": {},
   "outputs": [],
   "source": [
    "#if you attempt to sum an int or float with a string, an error results"
   ]
  },
  {
   "cell_type": "code",
   "execution_count": 25,
   "id": "8d2d08fa",
   "metadata": {},
   "outputs": [
    {
     "data": {
      "text/plain": [
       "'1.01.'"
      ]
     },
     "execution_count": 25,
     "metadata": {},
     "output_type": "execute_result"
    }
   ],
   "source": [
    "str11= str(float1)+str1\n",
    "str11"
   ]
  },
  {
   "cell_type": "code",
   "execution_count": 26,
   "id": "5177774e",
   "metadata": {},
   "outputs": [
    {
     "data": {
      "text/plain": [
       "2.0"
      ]
     },
     "execution_count": 26,
     "metadata": {},
     "output_type": "execute_result"
    }
   ],
   "source": [
    "float2 = float(str1) + float1\n",
    "float2"
   ]
  },
  {
   "cell_type": "code",
   "execution_count": 27,
   "id": "969bf48f",
   "metadata": {},
   "outputs": [
    {
     "data": {
      "text/plain": [
       "'11.'"
      ]
     },
     "execution_count": 27,
     "metadata": {},
     "output_type": "execute_result"
    }
   ],
   "source": [
    "## Transform valule to string\n",
    "str11= str(int1)+str1\n",
    "str11"
   ]
  },
  {
   "cell_type": "code",
   "execution_count": 30,
   "id": "c83e5f16",
   "metadata": {},
   "outputs": [
    {
     "name": "stdout",
     "output_type": "stream",
     "text": [
      "0,1,2,3,4,5,6,7,8,9,10,11,12,13,14,15,16,17,18,19,\n"
     ]
    }
   ],
   "source": [
    "total =\"\"\n",
    "for i in range(20):\n",
    "    total = total + str(i) +\",\"\n",
    "print(total)    \n"
   ]
  },
  {
   "cell_type": "markdown",
   "id": "a6f28d64",
   "metadata": {},
   "source": [
    "Float Structure "
   ]
  },
  {
   "cell_type": "code",
   "execution_count": 31,
   "id": "a2ecfe94",
   "metadata": {},
   "outputs": [
    {
     "data": {
      "text/plain": [
       "<module 'sys' (built-in)>"
      ]
     },
     "execution_count": 31,
     "metadata": {},
     "output_type": "execute_result"
    }
   ],
   "source": [
    "#import sys module\n",
    "import sys\n",
    "sys"
   ]
  },
  {
   "cell_type": "code",
   "execution_count": 32,
   "id": "89403a62",
   "metadata": {},
   "outputs": [
    {
     "data": {
      "text/plain": [
       "['__breakpointhook__',\n",
       " '__displayhook__',\n",
       " '__doc__',\n",
       " '__excepthook__',\n",
       " '__interactivehook__',\n",
       " '__loader__',\n",
       " '__name__',\n",
       " '__package__',\n",
       " '__spec__',\n",
       " '__stderr__',\n",
       " '__stdin__',\n",
       " '__stdout__',\n",
       " '__unraisablehook__',\n",
       " '_base_executable',\n",
       " '_clear_type_cache',\n",
       " '_current_frames',\n",
       " '_debugmallocstats',\n",
       " '_enablelegacywindowsfsencoding',\n",
       " '_framework',\n",
       " '_getframe',\n",
       " '_git',\n",
       " '_home',\n",
       " '_xoptions',\n",
       " 'addaudithook',\n",
       " 'api_version',\n",
       " 'argv',\n",
       " 'audit',\n",
       " 'base_exec_prefix',\n",
       " 'base_prefix',\n",
       " 'breakpointhook',\n",
       " 'builtin_module_names',\n",
       " 'byteorder',\n",
       " 'call_tracing',\n",
       " 'copyright',\n",
       " 'displayhook',\n",
       " 'dllhandle',\n",
       " 'dont_write_bytecode',\n",
       " 'exc_info',\n",
       " 'excepthook',\n",
       " 'exec_prefix',\n",
       " 'executable',\n",
       " 'exit',\n",
       " 'flags',\n",
       " 'float_info',\n",
       " 'float_repr_style',\n",
       " 'get_asyncgen_hooks',\n",
       " 'get_coroutine_origin_tracking_depth',\n",
       " 'getallocatedblocks',\n",
       " 'getdefaultencoding',\n",
       " 'getfilesystemencodeerrors',\n",
       " 'getfilesystemencoding',\n",
       " 'getprofile',\n",
       " 'getrecursionlimit',\n",
       " 'getrefcount',\n",
       " 'getsizeof',\n",
       " 'getswitchinterval',\n",
       " 'gettrace',\n",
       " 'getwindowsversion',\n",
       " 'hash_info',\n",
       " 'hexversion',\n",
       " 'implementation',\n",
       " 'int_info',\n",
       " 'intern',\n",
       " 'is_finalizing',\n",
       " 'last_traceback',\n",
       " 'last_type',\n",
       " 'last_value',\n",
       " 'maxsize',\n",
       " 'maxunicode',\n",
       " 'meta_path',\n",
       " 'modules',\n",
       " 'path',\n",
       " 'path_hooks',\n",
       " 'path_importer_cache',\n",
       " 'platform',\n",
       " 'platlibdir',\n",
       " 'prefix',\n",
       " 'ps1',\n",
       " 'ps2',\n",
       " 'ps3',\n",
       " 'pycache_prefix',\n",
       " 'set_asyncgen_hooks',\n",
       " 'set_coroutine_origin_tracking_depth',\n",
       " 'setprofile',\n",
       " 'setrecursionlimit',\n",
       " 'setswitchinterval',\n",
       " 'settrace',\n",
       " 'stderr',\n",
       " 'stdin',\n",
       " 'stdout',\n",
       " 'thread_info',\n",
       " 'unraisablehook',\n",
       " 'version',\n",
       " 'version_info',\n",
       " 'warnoptions',\n",
       " 'winver']"
      ]
     },
     "execution_count": 32,
     "metadata": {},
     "output_type": "execute_result"
    }
   ],
   "source": [
    "#use .__dict__ or dir for the directery\n",
    "dir(sys)"
   ]
  },
  {
   "cell_type": "code",
   "execution_count": 33,
   "id": "a68baddd",
   "metadata": {},
   "outputs": [
    {
     "data": {
      "text/plain": [
       "sys.float_info(max=1.7976931348623157e+308, max_exp=1024, max_10_exp=308, min=2.2250738585072014e-308, min_exp=-1021, min_10_exp=-307, dig=15, mant_dig=53, epsilon=2.220446049250313e-16, radix=2, rounds=1)"
      ]
     },
     "execution_count": 33,
     "metadata": {},
     "output_type": "execute_result"
    }
   ],
   "source": [
    "sys.float_info"
   ]
  },
  {
   "cell_type": "code",
   "execution_count": 34,
   "id": "465f6c97",
   "metadata": {},
   "outputs": [
    {
     "data": {
      "text/plain": [
       "8.98846567431158e+307"
      ]
     },
     "execution_count": 34,
     "metadata": {},
     "output_type": "execute_result"
    }
   ],
   "source": [
    "2.0 ** 1023"
   ]
  },
  {
   "cell_type": "code",
   "execution_count": 35,
   "id": "c3af4bab",
   "metadata": {},
   "outputs": [
    {
     "ename": "OverflowError",
     "evalue": "(34, 'Result too large')",
     "output_type": "error",
     "traceback": [
      "\u001b[1;31m---------------------------------------------------------------------------\u001b[0m",
      "\u001b[1;31mOverflowError\u001b[0m                             Traceback (most recent call last)",
      "\u001b[1;32m~\\AppData\\Local\\Temp\\ipykernel_7364\\2834442352.py\u001b[0m in \u001b[0;36m<module>\u001b[1;34m\u001b[0m\n\u001b[1;32m----> 1\u001b[1;33m \u001b[1;36m2.0\u001b[0m \u001b[1;33m**\u001b[0m \u001b[1;36m1024\u001b[0m\u001b[1;33m\u001b[0m\u001b[1;33m\u001b[0m\u001b[0m\n\u001b[0m",
      "\u001b[1;31mOverflowError\u001b[0m: (34, 'Result too large')"
     ]
    }
   ],
   "source": [
    "2.0 ** 1024"
   ]
  },
  {
   "cell_type": "code",
   "execution_count": null,
   "id": "90d60cef",
   "metadata": {},
   "outputs": [],
   "source": []
  }
 ],
 "metadata": {
  "kernelspec": {
   "display_name": "Python 3 (ipykernel)",
   "language": "python",
   "name": "python3"
  },
  "language_info": {
   "codemirror_mode": {
    "name": "ipython",
    "version": 3
   },
   "file_extension": ".py",
   "mimetype": "text/x-python",
   "name": "python",
   "nbconvert_exporter": "python",
   "pygments_lexer": "ipython3",
   "version": "3.9.13"
  }
 },
 "nbformat": 4,
 "nbformat_minor": 5
}
